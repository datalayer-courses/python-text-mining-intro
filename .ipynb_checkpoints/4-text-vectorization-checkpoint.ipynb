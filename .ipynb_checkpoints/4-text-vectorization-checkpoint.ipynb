{
 "cells": [
  {
   "cell_type": "markdown",
   "metadata": {},
   "source": [
    "The following is based on:\n",
    "- https://openclassrooms.com/en/courses/6532301-introduction-to-natural-language-processing/6980811-apply-a-simple-bag-of-words-approach\n",
    "- https://openclassrooms.com/en/courses/6532301-introduction-to-natural-language-processing/7067116-apply-the-tf-idf-vectorization-approach\n",
    "- https://openclassrooms.com/en/courses/6532301-introduction-to-natural-language-processing/6980911-discover-the-power-of-word-embeddings\n",
    "- https://www.shanelynn.ie/word-embeddings-in-python-with-spacy-and-gensim/\n",
    "- https://ashutoshtripathi.com/2020/09/04/word2vec-and-semantic-similarity-using-spacy-nlp-spacy-series-part-7/\n",
    "- https://israelg99.github.io/2017-03-23-Word2Vec-Explained/\n",
    "\n",
    "# 4. Text vectorization"
   ]
  },
  {
   "cell_type": "markdown",
   "metadata": {},
   "source": [
    "Vectorization is the general process of turning a collection of text documents (a corpus) into numerical feature vectors fed to machine learning algorithms for modeling. When you vectorize the corpus, you convert each word or token from the documents into an array of numbers. This array is the vector representation of the word."
   ]
  },
  {
   "cell_type": "markdown",
   "metadata": {},
   "source": [
    "## 4.1. Bag of words"
   ]
  },
  {
   "cell_type": "markdown",
   "metadata": {},
   "source": [
    "Bag-of-words (BOW) is a simple but powerful approach to vectorizing text.\n",
    "\n",
    "As the name may suggest, the bag-of-words technique does not consider the position of a word in a document. The idea is to count the number of times each word appears in each of the documents. It is a simple method, but it works.\n",
    "\n",
    "Consider the three following documents and count the number of times each word appears in each sentence.\n",
    "\n",
    "<img src=\"https://user.oc-static.com/upload/2020/10/23/16034397439042_surfin%20bird%20bow.png\" alt=\"drawing\" width=\"600\"/>\n",
    "\n",
    "The matrix calculated on this simple example of three sentences can be generalized to many documents in the corpus. Each document is a row, and each token is a column. Such a matrix is called the document-term matrix.\n",
    "\n",
    "Note that the size of the document-term matrix is:\n",
    "number of documents ∗ size of vocabulary\n"
   ]
  },
  {
   "cell_type": "markdown",
   "metadata": {},
   "source": [
    "You can use the CountVectorizer from scikit-learn (you can read more on the official documentation page https://scikit-learn.org/stable/modules/feature_extraction.html) to generate the document-term matrix from a corpus with the following code:"
   ]
  },
  {
   "cell_type": "code",
   "execution_count": 1,
   "metadata": {},
   "outputs": [
    {
     "data": {
      "text/plain": [
       "matrix([[1, 0, 1, 0, 0, 0, 0, 0, 0, 0, 1, 0, 0, 0, 0, 0, 0],\n",
       "        [0, 0, 1, 0, 0, 0, 0, 0, 0, 0, 0, 0, 0, 1, 1, 0, 0],\n",
       "        [0, 0, 0, 0, 1, 1, 0, 1, 0, 0, 0, 0, 0, 1, 1, 0, 0],\n",
       "        [0, 1, 0, 0, 0, 0, 1, 0, 0, 0, 0, 1, 1, 0, 0, 1, 1],\n",
       "        [0, 0, 0, 1, 0, 1, 1, 0, 1, 1, 0, 0, 0, 0, 2, 0, 0]])"
      ]
     },
     "execution_count": 1,
     "metadata": {},
     "output_type": "execute_result"
    }
   ],
   "source": [
    "from sklearn.feature_extraction.text import CountVectorizer\n",
    "vectorizer = CountVectorizer()\n",
    "corpus = [\n",
    "    '2 cups of flour',\n",
    "    'replace the flour',\n",
    "    'replace the keyboard in 2 minutes',\n",
    "    'do you prefer Windows or Mac',\n",
    "    'the Mac has the most noisy keyboard',\n",
    "]\n",
    "X = vectorizer.fit_transform(corpus)\n",
    "X.todense()"
   ]
  },
  {
   "cell_type": "markdown",
   "metadata": {},
   "source": [
    "Each row corresponds to one of the sentences, and each column to a word in the corpus. For instance, the appears once in documents two and three and twice in document five, while the word flour appears once in documents one and two. The vocabulary is strongly related to the sentence topic: the word flour only appears in documents about recipes. On the other hand, the is less specific."
   ]
  },
  {
   "cell_type": "markdown",
   "metadata": {},
   "source": [
    "Reducing the size of the vocabulary is important to avoid performing calculations over gigantic matrices. While removing stop words and lemmatizing helps reduce the size of the vocabulary significantly, it's often not enough.\n",
    "Therefore, reducing the size of the vocabulary is crucial. The idea is to remove as many tokens as possible without throwing away relevant information. It's a delicate balance that is entirely dependent on the context. One strategy can be to filter out words that are either too frequent or too rare. Another strategy involves applying dimension reduction techniques (PCA) to the document-term matrix."
   ]
  },
  {
   "cell_type": "markdown",
   "metadata": {},
   "source": [
    "## 4.2. Tf-idf"
   ]
  },
  {
   "cell_type": "markdown",
   "metadata": {},
   "source": [
    "The problem with counting word occurrences is that some words appear only in a limited number of documents. The model will learn that pattern, overfit the training data, and fail to generalize to new texts properly. Similarly, words that are present in all the documents will not bring any information to the model.\n",
    "\n",
    "For this reason, it is sometimes better to normalize the word counts by the number of times they appear in the documents. This is the general idea behind the tf-idf vectorization.\n",
    "\n",
    "Let's look more closely at what tf-idf stands for:\n",
    "\n",
    "- Tf stands for term frequency, the number of times the word appears in each document. \n",
    "- Idf stands for inverse document frequency, an inverse count of the number of documents a word appears in. Idf measures how significant a word is in the whole corpus.\n",
    "\n",
    "If you multiply tf with idf, you get the tf-idf score: "
   ]
  },
  {
   "cell_type": "markdown",
   "metadata": {},
   "source": [
    "tf(t,d)=|Number of times term t appears in document d|\n",
    "\n",
    "idf(t,D)=|Number of documents|/| number of documents that contain term t|\n",
    "\n",
    "tfidf(t,d,D)=tf(t,d).idf(t,D)"
   ]
  },
  {
   "cell_type": "markdown",
   "metadata": {},
   "source": [
    "- t is the word or token.\n",
    "- d is the document.\n",
    "- D is the set of documents in the corpus.\n",
    "\n",
    "A tf-idf score is a decimal number that measures the importance of a word in any document. It gives small values to frequent words in all the documents and more weight to those more scarce across the corpus. "
   ]
  },
  {
   "cell_type": "markdown",
   "metadata": {},
   "source": [
    "In scikit-learn, tf-Idf is implemented as the  TfidfVectorizer (you can read more on the scikit-learn documentation https://scikit-learn.org/stable/modules/feature_extraction.html).\n",
    "\n",
    "There are multiple ways to calculate the tf or the idf part of tf-idf depending on whether you want to maximize the impact of rare words or lower the role of frequent ones. For instance, when the corpus is composed of documents of varying length, you can normalize by the size of each document:\n",
    "\n",
    "tf(t,d)=nt,d / Vocab size of the document d\n",
    "Take the log:\n",
    "\n",
    "tf(t,d)=log(nt,d+1)\n",
    "\n",
    "Here, nt,d is the number of times the term t appears in the document d.\n",
    "\n"
   ]
  },
  {
   "cell_type": "markdown",
   "metadata": {},
   "source": [
    "Choosing the  CountVectorizer over the TfidfVectorizer depends on the nature of the documents you are working on. Tf-idf does not always bring better results than merely counting the occurrences of the words in each document!\n",
    "\n",
    "Here are a couple of cases where tf could perform better than tf-idf :\n",
    "\n",
    "- If words are distributed equally across the documents, then normalizing by idf will not matter much. As such, taking into account each word's specificity across the corpus does not improve the model's performance.\n",
    "- If rare words do not carry valuable meaning to the classification model, then td-idf does not have a particular advantage. For example, when someone uses slang, that means something general in a comment on social media. \n",
    "\n",
    "By concatenating each document's scores in the corpus, you get a vector. The dimension of the word vector equals the number of documents in the corpus. For example, if the corpus holds four documents, the vector's dimension is 4. For a corpus of 1000 documents, the vector dimension is 1000. Words that are not in the corpus do not get a vector representation, meaning that the vocabulary size and elements are also entirely dependent on the corpus at play. In short, tf-idf vectorization gives a numerical representation of words entirely dependent on the nature and number of documents being considered. The same words will have different vector representations in another corpus.\n",
    "\n",
    "We will explore numerical representations of words called embeddings (Word2vec, GloVe, fastText) the next part. These techniques are absolute and not dependent on the corpus, which is an important distinction!"
   ]
  },
  {
   "cell_type": "markdown",
   "metadata": {},
   "source": [
    "## 4.3. Words embeddings"
   ]
  },
  {
   "cell_type": "markdown",
   "metadata": {},
   "source": [
    "We have seen that the bag-of-words and tf-idf approaches are simple and quite efficient methods, but have several shortcomings:\n",
    "- Context and meaning is lost.\n",
    "- The document-term matrix is large and sparse.\n",
    "- Vectorization is relative to the corpus (similar words will have different vectors on another corpus)."
   ]
  },
  {
   "cell_type": "markdown",
   "metadata": {},
   "source": [
    "In 2013, a new text vectorizing method called embeddings took NLP by storm. An embedding technique called Word2vec was born, soon to be followed by GloVe and fastText. These new text vectorization techniques solved the inherent shortcomings of bag of words and tf-idf approaches. They also somehow managed to retain semantic similarity between words, meaning that these vectors can recognize the meaning of a word and determine its similarity to others. Let's explore further:"
   ]
  },
  {
   "cell_type": "markdown",
   "metadata": {},
   "source": [
    "### 4.3.1. They Retain Semantic Similarity\n",
    "\n",
    "As mentioned, one of the most remarkable properties of embeddings is their ability to capture the semantic relationship between words. For example: A hammer and pliers are both tools. Since they are related or similar in meaning, their vectors will be near one another. Similar to the words apple and pear or truck and vehicle.\n",
    "\n",
    "When visualizing word vectors in a 2D space, similar words are grouped in the same regions. The figure below shows the five most similar words: Paris, London, Moscow, Twitter, Facebook, pizza, fish, train, and car, according to Word2vec embeddings.\n",
    "\n",
    "<img src=\"https://user.oc-static.com/upload/2021/01/11/16103734115528_P3C1-1%20%281%29.png\" alt=\"drawing\" width=\"600\"/>\n",
    "\n",
    "As you can see, similar words keep their semantic distance! Truly amazing!\n",
    "\n",
    "With embeddings, it also becomes possible to capture analogies between words. For example, a woman is to a queen what a man is to a king; Paris is to France what Berlin is to Germany. You can also add and subtract words.\n",
    "\n",
    "queen−→−−−−woman−→−−−−=king−→−−man−→−France−→−−−−−Paris−→−−=Germany−→−−−−−−Berlin−→−−−  \n",
    "\n",
    "In this case, the distance between the respective vectors for woman and queen is close to the distance between the vectors for man and king."
   ]
  },
  {
   "cell_type": "markdown",
   "metadata": {},
   "source": [
    "### 4.3.2. They Have Dense Vectors\n",
    "Word embeddings are dense vectors, meaning that all values are non-zero (except for the occasional element). Therefore, more information is given to the model, leading to better performances.\n",
    "\n",
    "### 4.3.3. They Have a Constant Vector Size\n",
    "With word embeddings, the vector size is no longer dependent on the number of documents in your corpus!\n",
    "\n",
    "When training embedding models, the dimension of the word vector is a parameter of the model. You decide beforehand what vector size you need to represent each word. Pre-trained embeddings usually come in dimensions 50, 100, and 300.\n",
    "\n",
    "### 4.3.4. Their Vector Representations are Absolute\n",
    "The vector representations are also independent on the nature and content of the corpus you are working on.\n",
    "\n",
    "Word embeddings are trained on gigantic datasets. Word2vec, for instance, was trained on a Google News dataset of 100 billion words, GloVe on a dataset of 6 billion words, and fastText on 16 billion tokens. As a direct consequence, these models have very large vector representations. Word2vec has 3 million vectors, GloVe has 400.000, and fastText has 1 million vectors.\n"
   ]
  },
  {
   "cell_type": "markdown",
   "metadata": {},
   "source": [
    "### 4.3.5. Pre-trained models in Spacy\n",
    "\n",
    "Spacy has a number of different models of different sizes available for use, with models in 7 different languages (include English, Polish, German, Spanish, Portuguese, French, Italian, and Dutch), and of different sizes to suit your requirements. en_core_web_md includes 20k unique vectors with 300 dimensions."
   ]
  },
  {
   "cell_type": "code",
   "execution_count": 7,
   "metadata": {
    "scrolled": true
   },
   "outputs": [
    {
     "data": {
      "text/plain": [
       "array([ 1.8153e+00, -3.0974e+00,  7.8781e+00,  1.7159e+00,  1.3492e+00,\n",
       "       -4.6307e+00,  3.6709e+00, -8.5784e-02, -4.9755e+00, -8.4094e-01,\n",
       "        1.0642e+01,  6.8609e+00, -9.2319e+00, -1.5872e-01, -3.8155e-01,\n",
       "       -1.9255e-01,  3.3571e+00,  3.7723e+00,  1.3672e+00,  6.5571e+00,\n",
       "       -6.5411e+00, -3.9489e-01, -5.2012e-01,  5.5753e-01, -3.4513e+00,\n",
       "       -4.5028e+00, -1.5902e+00, -3.7582e+00, -4.8479e+00,  2.5768e+00,\n",
       "       -7.2187e+00, -4.7998e+00, -1.8594e+00, -4.9777e-01, -2.4411e-01,\n",
       "       -4.1268e+00, -3.4901e+00, -4.8338e+00,  4.3046e+00,  2.6234e+00,\n",
       "       -4.4230e-02, -1.3608e-02, -8.8456e+00,  3.7733e+00,  2.6316e+00,\n",
       "        3.4657e+00,  4.3546e+00,  1.1333e+00, -3.7832e+00, -5.7349e+00,\n",
       "       -3.3476e+00, -1.0848e+00,  3.8662e+00, -1.7437e+00, -9.9700e-01,\n",
       "        4.1109e+00,  1.0865e+00,  3.2447e+00,  1.9290e+00, -4.9990e+00,\n",
       "        6.1250e+00,  3.9852e+00, -5.0349e+00,  2.2019e+00, -1.2268e+00,\n",
       "        1.2217e+01, -1.9911e-01, -6.9239e+00, -1.4570e-01,  2.5162e+00,\n",
       "       -4.3404e+00,  5.0859e-01, -2.5466e-01,  1.1865e+00, -2.6420e+00,\n",
       "        2.5545e+00, -2.7378e+00,  3.4351e+00, -3.8275e+00,  3.9841e+00,\n",
       "       -8.7007e-01, -3.5022e+00,  2.4658e+00,  1.1413e-01,  7.0192e+00,\n",
       "        1.5351e+00,  6.3644e+00,  1.7950e+00,  1.3846e+00,  1.9949e+00,\n",
       "       -2.5775e+00,  6.8543e+00,  4.9167e+00,  1.0726e+00,  4.2185e+00,\n",
       "       -5.2995e+00, -1.0998e+00,  2.7981e+00, -2.9641e+00, -3.9380e+00,\n",
       "        4.4521e+00,  5.4607e+00,  2.2630e+00, -4.3339e+00, -1.3492e+00,\n",
       "        1.9899e+00,  1.3943e+00, -6.4898e+00, -1.1698e+00,  2.6809e+00,\n",
       "        7.4944e+00, -4.1128e+00,  2.1884e+00,  2.5359e+00,  1.3449e+00,\n",
       "       -2.4524e-01,  8.9151e-01,  1.4429e+00, -5.4536e+00, -4.6541e+00,\n",
       "       -2.4937e+00, -1.7425e+00,  3.6180e+00,  1.4103e+00,  2.3171e+00,\n",
       "       -5.6080e+00,  2.9942e+00, -3.3632e+00, -3.1912e+00, -3.6574e+00,\n",
       "       -6.8953e+00,  1.5619e+00, -2.8472e+00, -2.3034e+00,  1.2764e+00,\n",
       "        5.1938e-02, -2.1767e-01, -4.4340e-01,  1.9860e+00, -3.9447e+00,\n",
       "       -1.6374e-01, -3.3162e+00,  3.0624e-01, -2.2645e+00,  4.1747e+00,\n",
       "        3.1061e-01,  2.4868e+00,  4.4836e+00,  2.6715e+00,  7.5077e+00,\n",
       "       -2.6008e+00,  5.2290e+00, -1.9564e-02,  8.6515e-01,  4.9600e-01,\n",
       "       -2.7190e+00,  2.1371e+00,  4.7286e+00,  2.7932e-01, -1.8440e+00,\n",
       "        3.1654e+00, -1.1175e-01,  8.9190e-01, -1.1452e+00, -2.5718e+00,\n",
       "       -3.7142e+00, -6.9255e+00,  1.1165e+00, -3.4216e+00, -1.3337e+00,\n",
       "       -7.1805e-01,  7.2577e-01, -2.7242e+00,  1.8017e+00,  9.0910e+00,\n",
       "        8.8726e-03,  1.6012e+00,  3.4569e+00, -5.0202e+00, -5.4944e+00,\n",
       "        8.7428e+00, -2.9288e+00, -9.9861e-01, -2.6903e+00,  5.0044e+00,\n",
       "        2.7749e-01,  1.3357e+00, -6.9442e+00,  1.4123e+00, -6.2846e+00,\n",
       "       -4.5341e+00, -3.6088e+00, -4.5898e+00,  2.7224e+00,  5.0870e+00,\n",
       "        3.1570e+00, -3.4397e+00,  3.1942e+00,  5.1315e+00,  9.1256e+00,\n",
       "       -1.9185e+00, -1.8924e+00, -1.6918e+00, -5.2486e+00,  1.0434e+00,\n",
       "        3.9521e+00,  2.6612e+00, -4.0238e+00,  3.6476e+00,  1.0760e+00,\n",
       "        2.2546e+00, -2.9131e+00,  4.1481e+00,  6.7236e+00,  4.2079e-01,\n",
       "        1.2782e+00,  9.1259e-01, -2.7402e+00,  5.7157e-01,  3.2752e+00,\n",
       "        3.8041e+00, -2.3013e-01,  2.4876e+00,  3.8989e-01, -4.7766e+00,\n",
       "       -3.4029e+00,  5.0152e+00,  5.2771e-01,  8.9613e-01, -5.0365e+00,\n",
       "        1.0466e-01, -1.8650e+00,  7.6624e-01, -5.4027e+00, -1.3898e-01,\n",
       "        5.2780e+00,  4.3138e+00,  4.1568e+00,  2.9571e+00, -1.3304e+00,\n",
       "       -6.7570e+00, -1.9064e+00, -1.2822e+00,  5.4065e+00,  4.0695e+00,\n",
       "       -3.6669e+00, -3.1327e+00, -4.1047e+00,  3.6837e+00, -1.2322e+00,\n",
       "        2.2510e+00, -5.5596e+00,  1.1376e-01, -4.2178e+00, -1.4326e+00,\n",
       "        2.0191e+00, -9.3392e-02,  1.2639e+00,  8.5859e-02,  2.7242e-01,\n",
       "        4.6008e+00,  3.1308e+00,  5.4251e-01, -1.7078e+00,  1.9982e+00,\n",
       "        4.7233e+00, -3.0300e+00,  4.8159e+00, -7.5448e+00, -6.8540e+00,\n",
       "        9.2230e-01, -4.3552e+00, -1.2993e+00, -3.7137e+00, -5.2262e+00,\n",
       "        1.2077e+00,  5.9088e-01,  3.6372e+00, -3.1487e+00,  1.8208e+00,\n",
       "       -1.5681e+00, -1.8223e+00,  4.3911e+00,  3.1354e+00,  5.3926e+00,\n",
       "        2.3312e+00,  3.3455e+00, -3.2092e+00, -1.0546e+00,  3.1676e+00,\n",
       "        3.7958e+00, -6.1199e-01,  4.8044e+00, -3.9273e+00, -1.3952e-01,\n",
       "        1.6868e+00,  5.2596e+00, -4.0270e+00, -4.8126e+00, -1.8458e+00],\n",
       "      dtype=float32)"
      ]
     },
     "execution_count": 7,
     "metadata": {},
     "output_type": "execute_result"
    }
   ],
   "source": [
    "import spacy\n",
    "\n",
    "# Load the spacy model that you have installed\n",
    "nlp = spacy.load('en_core_web_md')\n",
    "\n",
    "# Process a sentence using the model\n",
    "doc = nlp(\"This is some text that I am processing with Spacy\")\n",
    "\n",
    "# It's that simple - all of the vectors and words are assigned after this point\n",
    "# Get the vector for 'text':\n",
    "doc[3].vector"
   ]
  },
  {
   "cell_type": "markdown",
   "metadata": {},
   "source": [
    "The vectors can be accessed directly using the .vector attribute of each processed token (word). The mean vector for the entire sentence is also calculated simply using .vector, providing a very convenient input for machine learning models based on sentences."
   ]
  },
  {
   "cell_type": "code",
   "execution_count": 6,
   "metadata": {
    "scrolled": true
   },
   "outputs": [
    {
     "data": {
      "text/plain": [
       "array([ 0.30563405, -0.427069  ,  0.500811  , -1.6580696 , -0.94629   ,\n",
       "       -0.23934703,  0.028577  ,  4.295377  , -3.8321986 ,  1.7672628 ,\n",
       "        6.658099  ,  1.1359228 , -3.006612  , -0.50961006,  2.3700955 ,\n",
       "        0.703461  ,  2.34051   , -0.3941861 , -1.369067  ,  0.59585994,\n",
       "        1.3248701 ,  2.0000231 , -3.4256172 , -2.002854  , -2.0418718 ,\n",
       "       -2.193501  , -1.819932  , -1.423071  , -2.0385802 , -0.10317302,\n",
       "       -0.46430922, -0.14729555, -3.394214  , -0.04532397, -2.269256  ,\n",
       "        0.17045009, -0.13494173,  0.932325  ,  5.7848444 ,  2.148113  ,\n",
       "       -1.5996732 ,  2.2030263 , -0.79875904, -1.350127  , -1.3724102 ,\n",
       "        2.8075051 ,  3.299128  , -2.831655  , -2.130708  ,  0.97382486,\n",
       "        1.6305139 , -0.57544106,  2.093894  , -4.6533303 , -1.3734801 ,\n",
       "        0.5552629 ,  2.419354  ,  2.0564501 ,  0.612147  ,  0.47596803,\n",
       "        4.43481   ,  0.15596   , -1.7175634 ,  0.38855594, -0.89715827,\n",
       "        2.3118348 , -2.541205  , -4.31619   ,  2.454495  ,  3.79598   ,\n",
       "       -1.0783069 ,  2.722444  , -0.92606604, -0.476808  ,  0.39366612,\n",
       "        1.075635  , -2.3088498 ,  1.0753001 , -2.818402  , -1.405414  ,\n",
       "       -3.3402772 , -2.546393  ,  2.4205518 , -0.831272  ,  2.9896379 ,\n",
       "       -0.20465302,  0.02480499, -1.08067   ,  1.8324687 , -2.684995  ,\n",
       "       -1.067833  , -0.7799639 ,  3.34584   , -6.33815   ,  0.24058883,\n",
       "       -1.7337329 ,  0.30885807, -2.472527  ,  0.22089107, -2.8528237 ,\n",
       "        1.5645981 ,  1.3620209 ,  1.4146221 ,  1.2246253 , -1.0189512 ,\n",
       "        3.9332752 , -0.14244299,  0.05134308, -0.70787704,  0.98634833,\n",
       "        0.983918  , -2.489817  , -0.37863597,  1.056667  ,  0.07038905,\n",
       "        0.93299186, -3.3040612 , -1.459826  , -1.255954  , -1.58012   ,\n",
       "       -3.6165156 , -1.7077968 , -0.01509399,  4.0862784 , -1.2418749 ,\n",
       "       -3.802525  ,  0.69377816, -2.7189171 , -0.43720597, -1.180317  ,\n",
       "       -3.370336  ,  0.90560806,  2.477566  , -3.4777691 , -2.2713912 ,\n",
       "        1.8330419 , -1.2760999 , -1.113861  ,  6.059766  , -0.91248095,\n",
       "       -0.28656003, -1.235962  ,  1.1542532 , -0.8326079 , -0.7066811 ,\n",
       "       -0.608421  , -3.4267292 , -0.5314786 , -1.69789   ,  2.332994  ,\n",
       "       -0.65697306,  1.920978  , -1.7829889 ,  0.04741685, -0.49004602,\n",
       "        1.8466461 ,  2.4439702 ,  1.4111999 , -0.009308  , -2.5239038 ,\n",
       "       -1.1275359 , -2.8978336 , -1.0351676 , -0.07996996, -2.0385349 ,\n",
       "       -1.6165011 , -2.9758508 ,  1.9204849 ,  0.31267795, -1.2895534 ,\n",
       "        1.3995272 , -1.082098  , -0.5246801 ,  2.1325269 ,  3.163244  ,\n",
       "       -2.4248405 ,  0.70356   ,  1.7774343 , -1.693312  , -0.568895  ,\n",
       "       -0.05817306, -0.2480501 ,  4.498539  , -0.63889605, -0.40738302,\n",
       "        1.8994381 , -2.1067774 , -3.572049  ,  1.607991  ,  3.5211303 ,\n",
       "       -3.307549  , -0.83129996, -0.93277705, -0.10384001,  2.5165267 ,\n",
       "        1.4800619 , -4.7294197 ,  3.162191  ,  2.114223  ,  2.16163   ,\n",
       "       -1.7953751 , -1.064044  , -2.5254931 , -1.923002  ,  1.45557   ,\n",
       "        2.5316222 , -2.79178   , -0.44553915, -0.649095  , -0.5323398 ,\n",
       "        2.522916  ,  1.023482  ,  0.7430055 ,  3.5510612 , -2.178901  ,\n",
       "        0.22337899, -0.08578251, -1.85267   ,  0.57078296,  1.0050399 ,\n",
       "       -0.96648586,  0.23848796,  2.0102868 ,  0.29869002,  1.31451   ,\n",
       "       -1.1515701 ,  1.6161289 ,  1.820121  ,  0.17467909, -0.17713399,\n",
       "       -2.47082   , -4.20842   ,  0.7466057 ,  0.39972296, -1.3546581 ,\n",
       "        1.5044    ,  0.955846  ,  1.037893  ,  1.314671  , -0.180228  ,\n",
       "       -3.1153862 , -0.8942631 ,  0.46362194,  0.87325984, -0.427061  ,\n",
       "       -2.4928    , -2.0991445 ,  0.9411739 ,  3.6993728 ,  4.311467  ,\n",
       "        0.35995802,  0.599337  , -5.014844  , -0.8915901 , -0.529793  ,\n",
       "       -1.960756  ,  0.64939874,  2.959001  , -2.160853  ,  2.027445  ,\n",
       "        0.1151435 ,  5.409936  ,  2.931291  ,  4.8695498 ,  0.76259595,\n",
       "       -0.03534485, -0.15046   ,  3.029665  , -5.237672  ,  0.836624  ,\n",
       "       -0.128725  , -3.191173  , -0.607369  , -2.1881042 , -0.55797005,\n",
       "       -0.7237069 ,  0.85019004, -1.941087  ,  0.384834  ,  1.5398511 ,\n",
       "       -0.7949482 , -1.5606661 ,  0.54367006,  1.0514437 ,  5.35902   ,\n",
       "       -1.2420781 ,  3.3212998 ,  0.6925169 , -1.1787201 ,  2.5486398 ,\n",
       "        4.4299192 , -1.4245069 ,  2.452001  , -1.73069   , -1.6239288 ,\n",
       "        0.6340111 ,  1.7662709 , -1.320726  , -4.7119703 ,  2.9724488 ],\n",
       "      dtype=float32)"
      ]
     },
     "execution_count": 6,
     "metadata": {},
     "output_type": "execute_result"
    }
   ],
   "source": [
    "# Get the mean vector for the entire sentence (useful for sentence classification etc.)\n",
    "doc.vector"
   ]
  },
  {
   "cell_type": "markdown",
   "metadata": {},
   "source": [
    "Semantic similarity can be also illustrated as followed:"
   ]
  },
  {
   "cell_type": "code",
   "execution_count": 8,
   "metadata": {},
   "outputs": [
    {
     "name": "stdout",
     "output_type": "stream",
     "text": [
      "lions lions 1.0\n",
      "lions cat 0.2866518199443817\n",
      "lions pet 0.2095211297273636\n",
      "cat lions 0.2866518199443817\n",
      "cat cat 1.0\n",
      "cat pet 0.732966423034668\n",
      "pet lions 0.2095211297273636\n",
      "pet cat 0.732966423034668\n",
      "pet pet 1.0\n"
     ]
    }
   ],
   "source": [
    "tokens = nlp('lions cat pet')\n",
    "\n",
    "for token1 in tokens:\n",
    "    for token2 in tokens:\n",
    "        print(token1.text, token2.text, token1.similarity(token2))"
   ]
  },
  {
   "cell_type": "markdown",
   "metadata": {},
   "source": [
    "### 4.3.6 Word2Vec explained\n",
    "\n",
    "Word2Vec is a shallow, two-layer neural networks which is trained to reconstruct linguistic contexts of words.\n",
    "It takes as its input a large corpus of words and produces a vector space, typically of several hundred dimensions, with each unique word in the corpus being assigned a corresponding vector in the space.\n",
    "Word vectors are positioned in the vector space such that words that share common contexts in the corpus are located in close proximity to one another in the space.\n",
    "Word2Vec is a particularly computationally-efficient predictive model for learning word embeddings from raw text.\n",
    "It comes in two flavors, the Continuous Bag-of-Words (CBOW) model and the Skip-Gram model.\n",
    "Algorithmically, these models are similar.\n",
    "\n",
    "<img src=\"https://israelg99.github.io/images/2017-03-23-Word2Vec-Explained/word2vec_diagrams.png\" alt=\"drawing\" width=\"600\"/>\n"
   ]
  },
  {
   "cell_type": "markdown",
   "metadata": {},
   "source": [
    "CBOW predicts target words (e.g. ‘mat’) from the surrounding context words (‘the cat sits on the’).\n",
    "Statistically, it has the effect that CBOW smoothes over a lot of the distributional information (by treating an entire context as one observation). For the most part, this turns out to be a useful thing for smaller datasets.\n",
    "\n",
    "Skip-gram predicts surrounding context words from the target words (inverse of CBOW).\n",
    "Statistically, skip-gram treats each context-target pair as a new observation, and this tends to do better when we have larger datasets.\n",
    "\n",
    "Word2Vec is a simple neural network with a single hidden layer, and like all neural networks, it has weights, and during training, its goal is to adjust those weights to reduce a loss function. However, Word2Vec is not going to be used for the task it was trained on, instead, we will just take its hidden weights, use them as our word embeddings, and toss the rest of the model.\n",
    "\n",
    "The rows of the hidden layer weight matrix, are actually the word vectors (word embeddings) we want!\n",
    "\n",
    "<img src=\"https://israelg99.github.io/images/2017-03-23-Word2Vec-Explained/word2vec_weight_matrix_lookup_table.png\" alt=\"drawing\" width=\"600\"/>\n",
    "\n"
   ]
  },
  {
   "cell_type": "markdown",
   "metadata": {},
   "source": [
    "The above explanation is a very basic one. It just gives you a high-level idea of what word embeddings are and how Word2Vec works. There’s a lot more to it. For example, to make the algorithm computationally more efficient, tricks like Hierarchical Softmax and Skip-Gram Negative Sampling are used. Moreover, GloVe, which extends the work of Word2Vec to capture global contextual information in a text corpus by calculating a global word-word co-occurrence matrix, and FastText, which works with sub-word tokenization and, as a consequence, can handle out-of-vocabulary words, are also worth looking at. Finally, Google’s Bidirectional Encoder Representations from Transformer (BERT), which became the highlight by the end of 2018 for achieving state-of-the-art performance in many NLP tasks, can also be used for word's embeddings."
   ]
  }
 ],
 "metadata": {
  "kernelspec": {
   "display_name": "Python 3",
   "language": "python",
   "name": "python3"
  },
  "language_info": {
   "codemirror_mode": {
    "name": "ipython",
    "version": 3
   },
   "file_extension": ".py",
   "mimetype": "text/x-python",
   "name": "python",
   "nbconvert_exporter": "python",
   "pygments_lexer": "ipython3",
   "version": "3.7.2"
  }
 },
 "nbformat": 4,
 "nbformat_minor": 4
}
