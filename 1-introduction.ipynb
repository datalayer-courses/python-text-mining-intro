{
 "cells": [
  {
   "cell_type": "markdown",
   "id": "0e93e663-fa9a-4e05-aaf1-769adf92e467",
   "metadata": {},
   "source": [
    "The following is based on:\n",
    "- https://scionanalytics.com/text-mining-vs-natural-language-processing/#:~:text=NLP%20and%20text%20mining%20differ,than%20the%20meaning%20of%20content.\n",
    "- https://www.folio3.ai/blog/why-natural-language-processing-is-important/#:~:text=By%20enabling%20machines%20to%20understand,%2C%20spell%20checks%2C%20and%20summarization.\n",
    "- https://nexocode.com/blog/posts/definitive-guide-to-nlp/\n",
    "- https://monkeylearn.com/blog/introduction-to-topic-modeling/#:~:text=Topic%20modeling%20is%20an%20unsupervised,characterize%20a%20set%20of%20documents.\n",
    "- https://www.turing.com/kb/which-language-is-useful-for-nlp-and-why\n",
    "- https://www.activestate.com/blog/natural-language-processing-nltk-vs-spacy/"
   ]
  },
  {
   "cell_type": "markdown",
   "id": "17eb1936-420d-4aad-8eff-b7b428340d43",
   "metadata": {},
   "source": [
    "# 1. Introduction"
   ]
  },
  {
   "cell_type": "markdown",
   "id": "afbe7138-a82a-4171-8836-9756e3c94148",
   "metadata": {},
   "source": [
    "In today’s digital world, businesses are overwhelmed with unstructured data. Without adequate technology, it’s virtually impossible for businesses to analyze and process the massive volume of data.That’s where Natural Language Processing (NLP) comes to the rescue…"
   ]
  },
  {
   "cell_type": "markdown",
   "id": "211fe957-b09a-4339-ad49-feff805f21fb",
   "metadata": {},
   "source": [
    "## 1.1. Some definitions"
   ]
  },
  {
   "cell_type": "markdown",
   "id": "33a8f6e3-e2d4-4ed3-9709-822fdb9ff370",
   "metadata": {},
   "source": [
    "Natural Language Processing (NLP) is a subset of AI in which computers can analyze and interpret human language in an efficient and useful way. It is a way to get a human-level understanding of the language for machines."
   ]
  },
  {
   "cell_type": "markdown",
   "id": "a8c7f823-7d64-445d-8ae6-7208cd67330d",
   "metadata": {},
   "source": [
    "The earliest NLP applications were rule-based systems that only performed certain tasks. These programs lacked exception handling and scalability, hindering their capabilities when processing large volumes of text data. We then moved towards more complex and powerful NLP solutions based on ML and deep learning techniques.\n",
    "\n",
    "<div align=\"center\">\n",
    "    <img src=\"images/DCF_NLP-in-the-Data-Center_ML-DL-Diagram.png\" alt=\"drawing\" width=\"400\"/>\n",
    "</div>"
   ]
  },
  {
   "cell_type": "markdown",
   "id": "3bb0bcc1-f541-45bb-b3bb-0d03f58a9748",
   "metadata": {},
   "source": [
    "Text mining is used to extract information from unstructured and structured content. It focuses on structure rather than the meaning of the content."
   ]
  },
  {
   "cell_type": "markdown",
   "id": "03b299a3-c267-4c2b-9fa6-da56cf6b35e3",
   "metadata": {},
   "source": [
    "## 1.2. NLP use cases"
   ]
  },
  {
   "cell_type": "markdown",
   "id": "bf5188fb-8739-4f77-aebe-791ca6f0c139",
   "metadata": {},
   "source": [
    "Many NLP tasks target particular problem areas. These tasks can be broken down into several different categories."
   ]
  },
  {
   "cell_type": "markdown",
   "id": "488f910c-89d7-4bb5-9851-8a3de345a6cd",
   "metadata": {},
   "source": [
    "<div align=\"center\">\n",
    "    <img src=\"images/NLP-tasks.jpg\" alt=\"drawing\" width=\"500\"/>\n",
    "    <img src=\"images/NLP-tasks-difficulty.png\" alt=\"drawing\" width=\"400\"/>\n",
    "</div>"
   ]
  },
  {
   "cell_type": "markdown",
   "id": "66cc9bdf-54fb-423d-8707-50f84fb57e23",
   "metadata": {},
   "source": [
    "### Keyword Extraction\n",
    "The keyword extraction task aims to identify all the keywords from a given natural language input. Utilizing keyword extractors aids in different uses, such as indexing data to be searched or creating tag clouds, among other things.\n",
    "\n",
    "Services like PubMed auto-tag their articles based on AI keyword extraction."
   ]
  },
  {
   "cell_type": "markdown",
   "id": "d8f1480b-e868-4744-a834-f8bc82e1968a",
   "metadata": {},
   "source": [
    "### Topic modeling\n",
    "Topic modeling is an unsupervised machine learning technique that’s capable of scanning a set of documents, detecting word and phrase patterns within them, and automatically clustering word groups and similar expressions that best characterize a set of documents.\n",
    "\n",
    "<div align=\"center\">\n",
    "    <img src=\"images/topic-modeling.png\" alt=\"drawing\" width=\"800\"/>\n",
    "</div>"
   ]
  },
  {
   "cell_type": "markdown",
   "id": "58ffbd87-a8f7-4ca0-aa85-65ba78267667",
   "metadata": {},
   "source": [
    "### Text Classification\n",
    "\n",
    "The text classification task involves assigning a class to an arbitrary piece of natural language input such as documents, email messages, or tweets. Text classification has many applications, from spam filtering (e.g., spam, not spam) to the analysis of electronic health records (classifying different medical conditions).\n",
    "Deep learning methods prove very good at text classification, achieving state-of-the-art results on a suite of standard academic benchmark problems.\n",
    "<div align=\"center\">\n",
    "    <img src=\"images/TextClassificationExample.png\" alt=\"drawing\" width=\"400\"/>\n",
    "</div>"
   ]
  },
  {
   "cell_type": "markdown",
   "id": "f28ecec5-7708-4a4a-8962-b555b1e110f2",
   "metadata": {},
   "source": [
    "### Named Entity Recognition\n",
    "The entity recognition task involves detecting mentions of specific types of information in natural language input. Typical entities of interest for entity recognition include people, organizations, locations, events, and products.\n",
    "<div align=\"center\">\n",
    "    <img src=\"images/NER.png\" alt=\"drawing\" width=\"600\"/>\n",
    "</div>"
   ]
  },
  {
   "cell_type": "markdown",
   "id": "10f65df7-231f-41e0-96d5-c263dd0f2414",
   "metadata": {},
   "source": [
    "### Text Summarization\n",
    "The text summarization task produces a short extract of arbitrary natural language input, typically a document or article. The goal in the sentence-level text summarization (SLTS) tasks is to create a summary that retains the meaning and style of the source: synthesizing high-level concepts while maintaining factual accuracy without excessive detail.\n",
    "<div align=\"center\">\n",
    "    <img src=\"images/Text-summarization.png\" alt=\"drawing\" width=\"600\"/>\n",
    "</div>"
   ]
  },
  {
   "cell_type": "markdown",
   "id": "e46f775c-7c44-485b-b139-be793b10edf3",
   "metadata": {},
   "source": [
    "### Conversational Agents\n",
    "The main task of a conversational agent is to have conversations with humans. The most popular type of conversational agent is chatbots – they use simple responses based on a given input. Their function is to provide the answer or perform the requested action. They are used in many different fields: telecommunications (providing support), marketing and sales (24/7 sales and helping customers), education (languages learning). However, some challenges come along with designing this kind of technology: not being able to answer all questions using only natural language understanding, the fact that it may feel dehumanizing if an AI doesn’t act like a human would when talking about emotions, etc., lack of accuracy due to the complexity inherent to natural languages. Currently, most conversational agents operate within a certain field or subject where most of the scenarios have been well defined."
   ]
  },
  {
   "cell_type": "markdown",
   "id": "ca9959fd-693a-4f0b-84c3-d6ce218dfe27",
   "metadata": {},
   "source": [
    "## 1.3. NLP challenges\n",
    "One big challenge for natural language processing is that it’s not always perfect; sometimes, the complexity inherent in human languages can cause inaccuracies and lead machines astray when trying to understand our words and sentences."
   ]
  },
  {
   "cell_type": "markdown",
   "id": "a752d486-2a10-431a-870e-bff984db647d",
   "metadata": {},
   "source": [
    "### Ambiguity\n",
    "In natural language, there is rarely a single sentence that can be interpreted without ambiguity. Ambiguity in natural language processing refers to sentences and phrases interpreted in two or more ways. Ambiguous sentences are hard to read and have multiple interpretations, which means that natural language processing may be challenging because it cannot make sense out of these sentences.\n",
    "<div align=\"center\">\n",
    "    <img src=\"images/NLP-ambiguity.png\" alt=\"drawing\" width=\"600\"/>\n",
    "</div>"
   ]
  },
  {
   "cell_type": "markdown",
   "id": "99090e2f-2161-4a4b-b7e2-c7d00586312e",
   "metadata": {},
   "source": [
    "### Irony and Sarcasm\n",
    "Irony, sarcasm, puns, and jokes all rely on this natural language ambiguity for their humor. These are especially challenging for sentiment analysis, where sentences may sound positive or negative but actually mean the opposite.\n",
    "\n",
    "### Domain-specific Knowledge\n",
    "Natural language processing isn’t limited just to understanding what words mean; there’s also interpreting how they should be used within the wider context; background information that may not be explicitly stated but inferred by the program based on surrounding text and domain-specific knowledge.\n",
    "\n",
    "Models that are trained on processing legal documents would be very different from the ones that are designed to process healthcare texts. Same for domain-specific chatbots - the ones designed to work as a helpdesk for telecommunication companies differ greatly from AI-based bots for mental health support.\n",
    "\n",
    "### Support for Multiple Languages\n",
    "For example, the most popular languages, English or Chinese, often have thousands of pieces of data and statistics that are available to analyze in-depth. However, many smaller languages only get a fraction of the attention they deserve and consequently gather far less data on their spoken language. This problem can be simply explained by the fact that not every language market is lucrative enough for being targeted by common solutions.\n",
    "\n",
    "### Lack of Trust Towards Machines\n",
    "Another challenge is designing NLP systems that humans feel comfortable using without feeling dehumanized by their interactions with AI agents who seem apathetic about emotions rather than empathetic as people would typically expect."
   ]
  },
  {
   "cell_type": "markdown",
   "id": "b048af31-e388-40bd-b420-68774c3eaafc",
   "metadata": {},
   "source": [
    "## 1.4. Python packages\n",
    "\n",
    "Although languages such as Java and R are used for natural language processing, Python is favored, thanks to its numerous libraries, simple syntax, and its ability to easily integrate with other programming languages."
   ]
  },
  {
   "cell_type": "markdown",
   "id": "51a0258e-8bdc-4c4d-81b5-1e5b946f7fb0",
   "metadata": {},
   "source": [
    "NLTK and spaCy are two of the most popular Natural Language Processing (NLP) tools available in Python. There’s a real philosophical difference between NLTK and spaCy. NLTK was built by scholars and researchers as a tool to help you create complex NLP functions. It almost acts as a toolbox of NLP algorithms. In contrast, spaCy is similar to a service: it helps you get specific tasks done.\n",
    "\n",
    "Each library utilizes either time or space to improve performance. While NLTK returns results much slower than spaCy (spaCy is a memory hog!), spaCy’s performance is attributed to the fact that it was written in Cython from the ground up.\n",
    "\n",
    "spaCy supports more functionnalities than NLTK.\n",
    "\n",
    "<div align=\"center\">\n",
    "    <img src=\"images/spacy-comparision.png\" alt=\"drawing\" width=\"600\"/>\n",
    "</div>\n",
    "\n",
    "The rest of this course will focus on implementing NLP using spaCy because of its user-friendliness, features availability, performance and philosophy. spaCy just gets the job done!"
   ]
  }
 ],
 "metadata": {
  "kernelspec": {
   "display_name": "Python 3 (ipykernel)",
   "language": "python",
   "name": "python3"
  },
  "language_info": {
   "codemirror_mode": {
    "name": "ipython",
    "version": 3
   },
   "file_extension": ".py",
   "mimetype": "text/x-python",
   "name": "python",
   "nbconvert_exporter": "python",
   "pygments_lexer": "ipython3",
   "version": "3.8.10"
  }
 },
 "nbformat": 4,
 "nbformat_minor": 5
}
