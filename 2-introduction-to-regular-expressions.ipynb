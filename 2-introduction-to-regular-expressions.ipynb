{
 "cells": [
  {
   "cell_type": "markdown",
   "metadata": {},
   "source": [
    "The following is based on:\n",
    "- https://www.w3schools.com/python/python_regex.asp\n",
    "- https://ieeexplore.ieee.org/document/8952499"
   ]
  },
  {
   "cell_type": "markdown",
   "metadata": {},
   "source": [
    "# 2. Introduction to regular expressions"
   ]
  },
  {
   "cell_type": "markdown",
   "metadata": {},
   "source": [
    "## Theory"
   ]
  },
  {
   "cell_type": "markdown",
   "metadata": {},
   "source": [
    "A RegEx, or Regular Expression, is a sequence of characters that forms a search pattern.\n",
    "RegEx can be used to check if a string contains the specified search pattern. They are a powerful mechanism for solving string-matching problems and are supported by all modern programming languages. However,  regexes are hard. They are hard to read, they are hard to write, they are hard to validate, they are hard to search for, and they are hard to document. They are also hard to master.\n",
    "\n",
    "<img src=\"images/regex.jpeg\" alt=\"drawing\" width=\"400\"/>\n",
    "\n",
    "Examples of use cases:\n",
    "- Parse emails adresses\n",
    "- Web Scraping\n",
    "- Remove/replace unwanted characters\n",
    "- ...\n",
    "\n",
    "<img src=\"https://www.novixys.com/blog/wp-content/uploads/2018/02/regex.png\" alt=\"drawing\" width=\"600\"/>"
   ]
  },
  {
   "cell_type": "markdown",
   "metadata": {},
   "source": [
    "Python has a built-in package called re, which can be used to work with Regular Expressions.\n",
    "\n",
    "Import the re module:"
   ]
  },
  {
   "cell_type": "code",
   "execution_count": 2,
   "metadata": {},
   "outputs": [],
   "source": [
    "import re"
   ]
  },
  {
   "cell_type": "markdown",
   "metadata": {},
   "source": [
    "The re module offers a set of functions that allows us to search a string for a match:\n",
    "\n",
    "| Function | Description                                                       |\n",
    "|----------|-------------------------------------------------------------------|\n",
    "| findall  | Returns a list containing all matches                             |\n",
    "| search   | Returns a Match object if there is a match anywhere in the string |\n",
    "| split    | Returns a list where the string has been split at each match      |\n",
    "| sub      | Replaces one or many matches with a string                        |\n",
    "\n",
    "The Match object has properties and methods used to retrieve information about the search, and the result:\n",
    "- span() returns a tuple containing the start and end positions of the match.\n",
    "- string returns the string passed into the function\n",
    "- group() returns the part of the string where there was a match"
   ]
  },
  {
   "cell_type": "markdown",
   "metadata": {},
   "source": [
    "Metacharacters are characters with a special meaning:\n",
    "\n",
    "| Character \t| Description                                                                \t| Example        \t|\n",
    "|-----------\t|----------------------------------------------------------------------------\t|----------------\t|\n",
    "| []        \t| A set of characters                                                        \t| \"[a-m]\"        \t|\n",
    "| \\         \t| Signals a special sequence (can also be used to escape special characters) \t| \"\\d\"           \t|\n",
    "| .         \t| Any character (except newline character)                                   \t| \"he..o\"        \t|\n",
    "| $$         \t| Ends with                                                                 \t| \"planet$\" \t    |\n",
    "| ^         \t| Starts with                                                                \t| \"^hello\"       \t|\n",
    "| *         \t| Zero or more occurrences                                                   \t| \"he.*o\"        \t|\n",
    "| +         \t| One or more occurrences                                                    \t| \"he.+o\"        \t|\n",
    "| ?         \t| Zero or one occurrences                                                    \t| \"he.?o\"        \t|\n",
    "| {}        \t| Exactly the specified number of occurrences                                \t| \"he.{2}o\"      \t|\n",
    "| \\|        \t| Either or                                                                  \t| \"falls\\|stays\" \t|\n",
    "| ()        \t| Capture and group                                                          \t|                \t|"
   ]
  },
  {
   "cell_type": "markdown",
   "metadata": {},
   "source": [
    "A special sequence is a \\ followed by one of the characters in the list below, and has a special meaning:\n",
    "\n",
    "| Character \t| Description                                                                                                                                                                                                 \t| Example           \t|\n",
    "|-----------\t|-------------------------------------------------------------------------------------------------------------------------------------------------------------------------------------------------------------\t|-------------------\t|\n",
    "| \\A        \t| Returns a match if the specified characters are at the beginning of the string                                                                                                                              \t| \"\\AThe\"           \t|\n",
    "| \\b        \t| Returns a match where the specified characters are at the beginning or at the end of a word (the \"r\" in the beginning is making sure that the string is being treated as a \"raw string\")                    \t| r\"\\bain\" r\"ain\\b\" \t|\n",
    "| \\B        \t| Returns a match where the specified characters are present, but NOT at the beginning (or at the end) of a word (the \"r\" in the beginning is making sure that the string is being treated as a \"raw string\") \t| r\"\\Bain\" r\"ain\\B\" \t|\n",
    "| \\d        \t| Returns a match where the string contains digits (numbers from 0-9)                                                                                                                                         \t| \"\\d\"              \t|\n",
    "| \\D        \t| Returns a match where the string DOES NOT contain digits                                                                                                                                                    \t| \"\\D\"              \t|\n",
    "| \\s        \t| Returns a match where the string contains a white space character                                                                                                                                           \t| \"\\s\"              \t|\n",
    "| \\S        \t| Returns a match where the string DOES NOT contain a white space character                                                                                                                                   \t| \"\\S\"              \t|\n",
    "| \\w        \t| Returns a match where the string contains any word characters (characters from a to Z, digits from 0-9, and the underscore _ character)                                                                     \t| \"\\w\"              \t|\n",
    "| \\W        \t| Returns a match where the string DOES NOT contain any word characters                                                                                                                                       \t| \"\\W\"              \t|\n",
    "| \\Z        \t| Returns a match if the specified characters are at the end of the string                                                                                                                                    \t| \"Spain\\Z\"         \t|\n",
    "| ()        \t| Capture and group                                                                                                                                                                                           \t|                   \t|"
   ]
  },
  {
   "cell_type": "markdown",
   "metadata": {},
   "source": [
    "A set is a set of characters inside a pair of square brackets [] with a special meaning:\n",
    "\n",
    "| Set        \t| Description                                                                                                           \t|\n",
    "|------------\t|-----------------------------------------------------------------------------------------------------------------------\t|\n",
    "| [arn]      \t| Returns a match where one of the specified characters (a, r, or n) is present                                         \t|\n",
    "| [a-n]      \t| Returns a match for any lower case character, alphabetically between a and n                                          \t|\n",
    "| [^arn]     \t| Returns a match for any character EXCEPT a, r, and n                                                                  \t|\n",
    "| [0123]     \t| Returns a match where any of the specified digits (0, 1, 2, or 3) are present                                         \t|\n",
    "| [0-9]      \t| Returns a match for any digit between 0 and 9                                                                         \t|\n",
    "| [0-5][0-9] \t| Returns a match for any two-digit numbers from 00 and 59                                                              \t|\n",
    "| [a-zA-Z]   \t| Returns a match for any character alphabetically between a and z, lower case OR upper case                            \t|\n",
    "| [+]        \t| In sets, +, *, ., \\|, (), $,{} has no special meaning, so [+] means: return a match for any + character in the string \t|\n",
    "| \\W         \t| Returns a match where the string DOES NOT contain any word characters                                                 \t|\n",
    "| \\Z         \t| Returns a match if the specified characters are at the end of the string                                              \t|\n",
    "| ()         \t| Capture and group                                                                                                     \t|"
   ]
  },
  {
   "cell_type": "markdown",
   "metadata": {},
   "source": [
    "## Examples\n",
    "\n",
    "Note 1: It's important to prefix your regex patterns with r to ensure that your patterns are interpreted in the way you want them to. Otherwise you may encounter problems to do with escape sequences in strings. For example, \"\\n\" in Python is used to indicate a new line, but if you use the r prefix, it will be interpreted as the raw string \"\\n\" - that is, the character \"\\\" followed by the character \"n\" - and not as a new line.\n",
    "\n",
    "Note 2: This website https://regex101.com/ can be used to easily visualize and debug regex in Python."
   ]
  },
  {
   "cell_type": "code",
   "execution_count": 4,
   "metadata": {},
   "outputs": [
    {
     "name": "stdout",
     "output_type": "stream",
     "text": [
      "['ai', 'ai']\n"
     ]
    }
   ],
   "source": [
    "import re\n",
    "\n",
    "txt = \"The rain in Spain\"\n",
    "x = re.findall(\"ai\", txt)\n",
    "print(x)"
   ]
  },
  {
   "cell_type": "code",
   "execution_count": 5,
   "metadata": {},
   "outputs": [
    {
     "name": "stdout",
     "output_type": "stream",
     "text": [
      "[]\n"
     ]
    }
   ],
   "source": [
    "txt = \"The rain in Spain\"\n",
    "x = re.findall(\"Portugal\", txt)\n",
    "print(x)"
   ]
  },
  {
   "cell_type": "code",
   "execution_count": 6,
   "metadata": {},
   "outputs": [
    {
     "name": "stdout",
     "output_type": "stream",
     "text": [
      "The first white-space character is located in position: 3\n"
     ]
    }
   ],
   "source": [
    "txt = \"The rain in Spain\"\n",
    "x = re.search(\"\\s\", txt)\n",
    "\n",
    "print(\"The first white-space character is located in position:\", x.start())"
   ]
  },
  {
   "cell_type": "code",
   "execution_count": 7,
   "metadata": {},
   "outputs": [
    {
     "name": "stdout",
     "output_type": "stream",
     "text": [
      "['The', 'rain', 'in', 'Spain']\n"
     ]
    }
   ],
   "source": [
    "txt = \"The rain in Spain\"\n",
    "x = re.split(\"\\s\", txt)\n",
    "print(x)"
   ]
  },
  {
   "cell_type": "code",
   "execution_count": 8,
   "metadata": {},
   "outputs": [
    {
     "name": "stdout",
     "output_type": "stream",
     "text": [
      "The9rain9in9Spain\n"
     ]
    }
   ],
   "source": [
    "txt = \"The rain in Spain\"\n",
    "x = re.sub(\"\\s\", \"9\", txt)\n",
    "print(x)"
   ]
  },
  {
   "cell_type": "code",
   "execution_count": 9,
   "metadata": {},
   "outputs": [
    {
     "name": "stdout",
     "output_type": "stream",
     "text": [
      "(12, 17)\n"
     ]
    }
   ],
   "source": [
    "txt = \"The rain in Spain\"\n",
    "x = re.search(r\"\\bS\\w+\", txt)\n",
    "print(x.span())"
   ]
  },
  {
   "cell_type": "code",
   "execution_count": 10,
   "metadata": {},
   "outputs": [
    {
     "name": "stdout",
     "output_type": "stream",
     "text": [
      "The rain in Spain\n"
     ]
    }
   ],
   "source": [
    "txt = \"The rain in Spain\"\n",
    "x = re.search(r\"\\bS\\w+\", txt)\n",
    "print(x.string)"
   ]
  },
  {
   "cell_type": "code",
   "execution_count": 11,
   "metadata": {},
   "outputs": [
    {
     "name": "stdout",
     "output_type": "stream",
     "text": [
      "Spain\n"
     ]
    }
   ],
   "source": [
    "txt = \"The rain in Spain\"\n",
    "x = re.search(r\"\\bS\\w+\", txt)\n",
    "print(x.group())"
   ]
  }
 ],
 "metadata": {
  "kernelspec": {
   "display_name": "Python 3",
   "language": "python",
   "name": "python3"
  },
  "language_info": {
   "codemirror_mode": {
    "name": "ipython",
    "version": 3
   },
   "file_extension": ".py",
   "mimetype": "text/x-python",
   "name": "python",
   "nbconvert_exporter": "python",
   "pygments_lexer": "ipython3",
   "version": "3.7.2"
  }
 },
 "nbformat": 4,
 "nbformat_minor": 4
}
