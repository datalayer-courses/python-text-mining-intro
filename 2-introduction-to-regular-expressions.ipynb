{
 "cells": [
  {
   "cell_type": "markdown",
   "metadata": {},
   "source": [
    "The following is based on:\n",
    "- https://www.w3schools.com/python/python_regex.asp\n",
    "- https://ieeexplore.ieee.org/document/8952499\n",
    "- https://github.com/odenipinedo/Python/blob/master/datacamp/introduction%20to%20natural%20language%20processing%20in%20Python.ipynb"
   ]
  },
  {
   "cell_type": "markdown",
   "metadata": {},
   "source": [
    "# 2. Introduction to regular expressions"
   ]
  },
  {
   "cell_type": "markdown",
   "metadata": {},
   "source": [
    "## 2.1. Theory"
   ]
  },
  {
   "cell_type": "markdown",
   "metadata": {},
   "source": [
    "A RegEx, or Regular Expression, is a sequence of characters that forms a search pattern.\n",
    "RegEx can be used to check if a string contains the specified search pattern. They are a powerful mechanism for solving string-matching problems and are supported by all modern programming languages. However,  regexes are hard. They are hard to read, they are hard to write, they are hard to validate, they are hard to search for, and they are hard to document. They are also hard to master.\n",
    "\n",
    "<div align=\"center\">\n",
    "  <img src=\"images/regex.jpeg\" alt=\"drawing\" width=\"400\"/>\n",
    "</div>\n",
    "\n",
    "Examples of use cases:\n",
    "- Parse emails adresses\n",
    "- Web Scraping\n",
    "- Remove/replace unwanted characters\n",
    "- ...\n",
    "\n",
    "<div align=\"center\">\n",
    "    <img src=\"https://www.novixys.com/blog/wp-content/uploads/2018/02/regex.png\" alt=\"drawing\" width=\"600\"/>\n",
    "</div>"
   ]
  },
  {
   "cell_type": "markdown",
   "metadata": {},
   "source": [
    "Python has a built-in package called re, which can be used to work with Regular Expressions.\n",
    "\n",
    "Import the re module:"
   ]
  },
  {
   "cell_type": "code",
   "execution_count": 2,
   "metadata": {},
   "outputs": [],
   "source": [
    "import re"
   ]
  },
  {
   "cell_type": "markdown",
   "metadata": {},
   "source": [
    "The re module offers a set of functions that allows us to search a string for a match:\n",
    "\n",
    "| Function | Description                                                       |\n",
    "|----------|-------------------------------------------------------------------|\n",
    "| findall  | Returns a list containing all matches                             |\n",
    "| search   | Returns a Match object if there is a match anywhere in the string |\n",
    "| split    | Returns a list where the string has been split at each match      |\n",
    "| sub      | Replaces one or many matches with a string                        |\n",
    "\n",
    "The Match object has properties and methods used to retrieve information about the search, and the result:\n",
    "- span() returns a tuple containing the start and end positions of the match.\n",
    "- string returns the string passed into the function\n",
    "- group() returns the part of the string where there was a match"
   ]
  },
  {
   "cell_type": "markdown",
   "metadata": {},
   "source": [
    "Metacharacters are characters with a special meaning:\n",
    "\n",
    "| Character | Description | Example |\n",
    "|---|---|---|\n",
    "| [] | A set of characters | \"[a-m]\" |\n",
    "| \\ | Signals a special sequence (can also be used to escape special characters) | \"\\d\" |\n",
    "| . | Any character (except newline character) | \"he..o\" |\n",
    "| $$ | Ends with | \"planet$\" |\n",
    "| ^ | Starts with | \"^hello\" |\n",
    "| * | Zero or more occurrences | \"he.*o\" |\n",
    "| + | One or more occurrences | \"he.+o\" |\n",
    "| ? | Zero or one occurrences | \"he.?o\" |\n",
    "| {} | Exactly the specified number of occurrences | \"he.{2}o\" |\n",
    "| \\| | Either or | \"falls\\|stays\" |\n",
    "| () | Capture and group |  |"
   ]
  },
  {
   "cell_type": "markdown",
   "metadata": {},
   "source": [
    "A special sequence is a \" \\ \" followed by one of the characters in the list below, and has a special meaning:\n",
    "\n",
    "| Character | Description | Example |\n",
    "|---|---|---|\n",
    "| \\A | Returns a match if the specified characters are at the beginning of the string | \"\\AThe\" |\n",
    "| \\b | Returns a match where the specified characters are at the beginning or at the end of a word (the \"r\" in the beginning is making sure that the string is being treated as a \"raw string\") | r\"\\bain\" r\"ain\\b\" |\n",
    "| \\B | Returns a match where the specified characters are present, but NOT at the beginning (or at the end) of a word (the \"r\" in the beginning is making sure that the string is being treated as a \"raw string\") | r\"\\Bain\" r\"ain\\B\" |\n",
    "| \\d | Returns a match where the string contains digits (numbers from 0-9) | \"\\d\" |\n",
    "| \\D | Returns a match where the string DOES NOT contain digits | \"\\D\" |\n",
    "| \\s | Returns a match where the string contains a white space character | \"\\s\" |\n",
    "| \\S | Returns a match where the string DOES NOT contain a white space character | \"\\S\" |\n",
    "| \\w | Returns a match where the string contains any word characters (characters from a to Z, digits from 0-9, and the underscore _ character) | \"\\w\" |\n",
    "| \\W | Returns a match where the string DOES NOT contain any word characters | \"\\W\" |\n",
    "| \\Z | Returns a match if the specified characters are at the end of the string | \"Spain\\Z\" |"
   ]
  },
  {
   "cell_type": "markdown",
   "metadata": {},
   "source": [
    "A set is a set of characters inside a pair of square brackets [] with a special meaning:\n",
    "\n",
    "| Set | Description |\n",
    "|---|---|\n",
    "| [arn] | Returns a match where one of the specified characters (a, r, or n) is present |\n",
    "| [a-n] | Returns a match for any lower case character, alphabetically between a and n |\n",
    "| [^arn] | Returns a match for any character EXCEPT a, r, and n |\n",
    "| [0123] | Returns a match where any of the specified digits (0, 1, 2, or 3) are present |\n",
    "| [0-9] | Returns a match for any digit between 0 and 9 |\n",
    "| [0-5][0-9] | Returns a match for any two-digit numbers from 00 and 59 |\n",
    "| [a-zA-Z] | Returns a match for any character alphabetically between a and z, lower case OR upper case |"
   ]
  },
  {
   "cell_type": "markdown",
   "metadata": {},
   "source": [
    "## 2.2. Examples\n",
    "\n",
    "Note 1: It's important to prefix your regex patterns with r to ensure that your patterns are interpreted in the way you want them to. Otherwise you may encounter problems to do with escape sequences in strings."
   ]
  },
  {
   "cell_type": "code",
   "execution_count": 3,
   "metadata": {},
   "outputs": [
    {
     "name": "stdout",
     "output_type": "stream",
     "text": [
      "['ai', 'ai']\n"
     ]
    }
   ],
   "source": [
    "import re\n",
    "\n",
    "txt = \"The rain in Spain\"\n",
    "x = re.findall(\"ai\", txt)\n",
    "print(x)"
   ]
  },
  {
   "cell_type": "code",
   "execution_count": 4,
   "metadata": {},
   "outputs": [
    {
     "name": "stdout",
     "output_type": "stream",
     "text": [
      "[]\n"
     ]
    }
   ],
   "source": [
    "txt = \"The rain in Spain\"\n",
    "x = re.findall(\"Portugal\", txt)\n",
    "print(x)"
   ]
  },
  {
   "cell_type": "code",
   "execution_count": 5,
   "metadata": {},
   "outputs": [
    {
     "name": "stdout",
     "output_type": "stream",
     "text": [
      "The first white-space character is located in position: 3\n"
     ]
    }
   ],
   "source": [
    "txt = \"The rain in Spain\"\n",
    "x = re.search(\"\\s\", txt)\n",
    "\n",
    "print(\"The first white-space character is located in position:\", x.start())"
   ]
  },
  {
   "cell_type": "code",
   "execution_count": 6,
   "metadata": {},
   "outputs": [
    {
     "name": "stdout",
     "output_type": "stream",
     "text": [
      "['The', 'rain', 'in', 'Spain']\n"
     ]
    }
   ],
   "source": [
    "txt = \"The rain in Spain\"\n",
    "x = re.split(\"\\s\", txt)\n",
    "print(x)"
   ]
  },
  {
   "cell_type": "code",
   "execution_count": 7,
   "metadata": {},
   "outputs": [
    {
     "name": "stdout",
     "output_type": "stream",
     "text": [
      "The9rain9in9Spain\n"
     ]
    }
   ],
   "source": [
    "txt = \"The rain in Spain\"\n",
    "x = re.sub(\"\\s\", \"9\", txt)\n",
    "print(x)"
   ]
  },
  {
   "cell_type": "code",
   "execution_count": 8,
   "metadata": {},
   "outputs": [
    {
     "name": "stdout",
     "output_type": "stream",
     "text": [
      "(12, 17)\n"
     ]
    }
   ],
   "source": [
    "txt = \"The rain in Spain\"\n",
    "x = re.search(r\"\\bS\\w+\", txt)\n",
    "print(x.span())"
   ]
  },
  {
   "cell_type": "code",
   "execution_count": 9,
   "metadata": {},
   "outputs": [
    {
     "name": "stdout",
     "output_type": "stream",
     "text": [
      "The rain in Spain\n"
     ]
    }
   ],
   "source": [
    "txt = \"The rain in Spain\"\n",
    "x = re.search(r\"\\bS\\w+\", txt)\n",
    "print(x.string)"
   ]
  },
  {
   "cell_type": "code",
   "execution_count": 10,
   "metadata": {},
   "outputs": [
    {
     "name": "stdout",
     "output_type": "stream",
     "text": [
      "Spain\n"
     ]
    }
   ],
   "source": [
    "print(x.group())"
   ]
  },
  {
   "cell_type": "markdown",
   "metadata": {},
   "source": [
    "## 2.3 Useful tools\n",
    "\n",
    "This website https://regex101.com/ can be used to easily visualize and debug regex in Python.\n",
    "\n",
    "This website https://www.autoregex.xyz/ uses artificial intelligence to convert natural language text to regular expressions."
   ]
  },
  {
   "cell_type": "markdown",
   "metadata": {
    "tags": []
   },
   "source": [
    "## 2.4. Exercises"
   ]
  },
  {
   "cell_type": "markdown",
   "metadata": {},
   "source": [
    "Now you'll get a chance to write some regular expressions to match digits, strings and non-alphanumeric characters. \n",
    "\n",
    "Practice is the key to mastering RegEx!"
   ]
  },
  {
   "cell_type": "code",
   "execution_count": null,
   "metadata": {},
   "outputs": [],
   "source": [
    "import re\n",
    "my_string = \"Let's write RegEx!  Won't that be fun?  I sure think so.  Can you find 4 sentences?  Or perhaps, all 19 words?\"\n",
    "\n",
    "# Write a pattern to match sentence endings: sentence_endings\n",
    "sentence_endings = r\"__\"\n",
    "\n",
    "# Split my_string on sentence endings and print the result\n",
    "print(re.__(sentence_endings, my_string))\n",
    "\n",
    "# Find all capitalized words in my_string and print the result\n",
    "capitalized_words = r\"__\"\n",
    "print(re.__(__, my_string))\n",
    "\n",
    "# Split my_string on spaces and print the result\n",
    "spaces = r\"__\"\n",
    "print(re.__(__, my_string))\n",
    "\n",
    "# Find all digits in my_string and print the result\n",
    "digits = r\"__\"\n",
    "print(re.__(__, my_string))"
   ]
  },
  {
   "cell_type": "code",
   "execution_count": null,
   "metadata": {},
   "outputs": [],
   "source": [
    "# SOLUTION\n",
    "\n",
    "import re\n",
    "my_string = \"Let's write RegEx!  Won't that be fun?  I sure think so.  Can you find 4 sentences?  Or perhaps, all 19 words?\"\n",
    "\n",
    "# Write a pattern to match sentence endings: sentence_endings\n",
    "sentence_endings = r\"[.?!]\"\n",
    "\n",
    "# Split my_string on sentence endings and print the result\n",
    "print(re.split(sentence_endings, my_string))\n",
    "\n",
    "# Find all capitalized words in my_string and print the result\n",
    "capitalized_words = r\"[A-Z]\\w+\"\n",
    "print(re.findall(capitalized_words, my_string))\n",
    "\n",
    "# Split my_string on spaces and print the result\n",
    "spaces = r\"\\s+\"\n",
    "print(re.split(spaces, my_string))\n",
    "\n",
    "# Find all digits in my_string and print the result\n",
    "digits = r\"\\d+\"\n",
    "print(re.findall(digits, my_string))"
   ]
  }
 ],
 "metadata": {
  "kernelspec": {
   "display_name": "Python 3 (ipykernel)",
   "language": "python",
   "name": "python3"
  },
  "language_info": {
   "codemirror_mode": {
    "name": "ipython",
    "version": 3
   },
   "file_extension": ".py",
   "mimetype": "text/x-python",
   "name": "python",
   "nbconvert_exporter": "python",
   "pygments_lexer": "ipython3",
   "version": "3.9.5"
  }
 },
 "nbformat": 4,
 "nbformat_minor": 4
}
