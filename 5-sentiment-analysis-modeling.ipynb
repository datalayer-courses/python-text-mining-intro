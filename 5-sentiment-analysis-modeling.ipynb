{
 "cells": [
  {
   "cell_type": "markdown",
   "id": "73782d02-a180-413d-98b7-1ef513a487b0",
   "metadata": {},
   "source": [
    "The following is based on:\n",
    "- https://www.kaggle.com/code/lakshmi25npathi/sentiment-analysis-of-imdb-movie-reviews\n",
    "- https://openclassrooms.com/en/courses/6532301-introduction-to-natural-language-processing/7047916-apply-classifier-models-for-sentiment-analysis"
   ]
  },
  {
   "cell_type": "markdown",
   "id": "7f98f97d-8abf-4cda-a8ed-c70933af9888",
   "metadata": {},
   "source": [
    "# 5. Sentiment analysis modeling"
   ]
  },
  {
   "cell_type": "markdown",
   "id": "cd7ff550-b559-4492-9aa3-fc3834e750f2",
   "metadata": {},
   "source": [
    "Sentiment analysis is one of the most common text classification applications of vectorization.\n",
    "\n",
    "The goal of sentiment analysis is to classify an opinion as positive or negative. Sentiment analysis is mostly used to infer customers' views on a product or a service on social networks. You can also apply it to political discourse, digital sociology, or information extraction.\n",
    "\n",
    "Consider the following statement taken from a movie review: \n",
    "- \"This movie was amazing.\" Rather easy to identify the positive word, right? \n",
    "- Now, what about this one? \"That movie was amazingly bad.\" Slightly more complex! \n",
    "- Now what about this social media comment: \"It's not unattractive!\" Even more complex!\n",
    "\n",
    "Negations, idioms, slang and sarcasm complexify sentiment analysis."
   ]
  },
  {
   "cell_type": "markdown",
   "id": "7738db9b-7a3e-4da6-b3ab-5755894bf916",
   "metadata": {},
   "source": [
    "## 5.1. A first submission"
   ]
  },
  {
   "cell_type": "code",
   "execution_count": 3,
   "id": "95aeeb8b-9d90-4609-be7a-f89c7706987a",
   "metadata": {},
   "outputs": [],
   "source": [
    "import pandas as pd"
   ]
  },
  {
   "cell_type": "code",
   "execution_count": 27,
   "id": "c49da3e8-b1d8-444e-8f51-c6c81bf57a24",
   "metadata": {},
   "outputs": [
    {
     "name": "stdout",
     "output_type": "stream",
     "text": [
      "(40000, 2)\n"
     ]
    },
    {
     "data": {
      "text/html": [
       "<div>\n",
       "<style scoped>\n",
       "    .dataframe tbody tr th:only-of-type {\n",
       "        vertical-align: middle;\n",
       "    }\n",
       "\n",
       "    .dataframe tbody tr th {\n",
       "        vertical-align: top;\n",
       "    }\n",
       "\n",
       "    .dataframe thead th {\n",
       "        text-align: right;\n",
       "    }\n",
       "</style>\n",
       "<table border=\"1\" class=\"dataframe\">\n",
       "  <thead>\n",
       "    <tr style=\"text-align: right;\">\n",
       "      <th></th>\n",
       "      <th>review</th>\n",
       "      <th>sentiment</th>\n",
       "    </tr>\n",
       "  </thead>\n",
       "  <tbody>\n",
       "    <tr>\n",
       "      <th>0</th>\n",
       "      <td>One of the other reviewers has mentioned that ...</td>\n",
       "      <td>positive</td>\n",
       "    </tr>\n",
       "    <tr>\n",
       "      <th>1</th>\n",
       "      <td>A wonderful little production. &lt;br /&gt;&lt;br /&gt;The...</td>\n",
       "      <td>positive</td>\n",
       "    </tr>\n",
       "    <tr>\n",
       "      <th>2</th>\n",
       "      <td>Basically there's a family where a little boy ...</td>\n",
       "      <td>negative</td>\n",
       "    </tr>\n",
       "    <tr>\n",
       "      <th>3</th>\n",
       "      <td>Petter Mattei's \"Love in the Time of Money\" is...</td>\n",
       "      <td>positive</td>\n",
       "    </tr>\n",
       "    <tr>\n",
       "      <th>4</th>\n",
       "      <td>Probably my all-time favorite movie, a story o...</td>\n",
       "      <td>positive</td>\n",
       "    </tr>\n",
       "    <tr>\n",
       "      <th>5</th>\n",
       "      <td>I sure would like to see a resurrection of a u...</td>\n",
       "      <td>positive</td>\n",
       "    </tr>\n",
       "    <tr>\n",
       "      <th>6</th>\n",
       "      <td>This show was an amazing, fresh &amp; innovative i...</td>\n",
       "      <td>negative</td>\n",
       "    </tr>\n",
       "    <tr>\n",
       "      <th>7</th>\n",
       "      <td>Encouraged by the positive comments about this...</td>\n",
       "      <td>negative</td>\n",
       "    </tr>\n",
       "    <tr>\n",
       "      <th>8</th>\n",
       "      <td>If you like original gut wrenching laughter yo...</td>\n",
       "      <td>positive</td>\n",
       "    </tr>\n",
       "    <tr>\n",
       "      <th>9</th>\n",
       "      <td>The cast played Shakespeare.&lt;br /&gt;&lt;br /&gt;Shakes...</td>\n",
       "      <td>negative</td>\n",
       "    </tr>\n",
       "  </tbody>\n",
       "</table>\n",
       "</div>"
      ],
      "text/plain": [
       "                                              review sentiment\n",
       "0  One of the other reviewers has mentioned that ...  positive\n",
       "1  A wonderful little production. <br /><br />The...  positive\n",
       "2  Basically there's a family where a little boy ...  negative\n",
       "3  Petter Mattei's \"Love in the Time of Money\" is...  positive\n",
       "4  Probably my all-time favorite movie, a story o...  positive\n",
       "5  I sure would like to see a resurrection of a u...  positive\n",
       "6  This show was an amazing, fresh & innovative i...  negative\n",
       "7  Encouraged by the positive comments about this...  negative\n",
       "8  If you like original gut wrenching laughter yo...  positive\n",
       "9  The cast played Shakespeare.<br /><br />Shakes...  negative"
      ]
     },
     "execution_count": 27,
     "metadata": {},
     "output_type": "execute_result"
    }
   ],
   "source": [
    "# Importing the training data\n",
    "imdb_data = pd.read_csv('data/imdb.csv')\n",
    "print(imdb_data.shape)\n",
    "imdb_data.head(10)"
   ]
  },
  {
   "cell_type": "code",
   "execution_count": 28,
   "id": "384c40d0-8b05-4747-a622-317aac7b280f",
   "metadata": {},
   "outputs": [
    {
     "data": {
      "text/html": [
       "<div>\n",
       "<style scoped>\n",
       "    .dataframe tbody tr th:only-of-type {\n",
       "        vertical-align: middle;\n",
       "    }\n",
       "\n",
       "    .dataframe tbody tr th {\n",
       "        vertical-align: top;\n",
       "    }\n",
       "\n",
       "    .dataframe thead th {\n",
       "        text-align: right;\n",
       "    }\n",
       "</style>\n",
       "<table border=\"1\" class=\"dataframe\">\n",
       "  <thead>\n",
       "    <tr style=\"text-align: right;\">\n",
       "      <th></th>\n",
       "      <th>review</th>\n",
       "      <th>sentiment</th>\n",
       "    </tr>\n",
       "  </thead>\n",
       "  <tbody>\n",
       "    <tr>\n",
       "      <th>count</th>\n",
       "      <td>40000</td>\n",
       "      <td>40000</td>\n",
       "    </tr>\n",
       "    <tr>\n",
       "      <th>unique</th>\n",
       "      <td>39727</td>\n",
       "      <td>2</td>\n",
       "    </tr>\n",
       "    <tr>\n",
       "      <th>top</th>\n",
       "      <td>Hilarious, clean, light-hearted, and quote-wor...</td>\n",
       "      <td>positive</td>\n",
       "    </tr>\n",
       "    <tr>\n",
       "      <th>freq</th>\n",
       "      <td>4</td>\n",
       "      <td>20044</td>\n",
       "    </tr>\n",
       "  </tbody>\n",
       "</table>\n",
       "</div>"
      ],
      "text/plain": [
       "                                                   review sentiment\n",
       "count                                               40000     40000\n",
       "unique                                              39727         2\n",
       "top     Hilarious, clean, light-hearted, and quote-wor...  positive\n",
       "freq                                                    4     20044"
      ]
     },
     "execution_count": 28,
     "metadata": {},
     "output_type": "execute_result"
    }
   ],
   "source": [
    "# Summary of the dataset\n",
    "imdb_data.describe()"
   ]
  },
  {
   "cell_type": "code",
   "execution_count": 29,
   "id": "894c6920-38a9-4fca-9e42-ed7866469c05",
   "metadata": {},
   "outputs": [
    {
     "data": {
      "text/plain": [
       "positive    20044\n",
       "negative    19956\n",
       "Name: sentiment, dtype: int64"
      ]
     },
     "execution_count": 29,
     "metadata": {},
     "output_type": "execute_result"
    }
   ],
   "source": [
    "# Sentiment count\n",
    "imdb_data['sentiment'].value_counts()"
   ]
  },
  {
   "cell_type": "code",
   "execution_count": 31,
   "id": "4fdbd2dc-8dfb-4b92-8614-a70f3cbdf63d",
   "metadata": {},
   "outputs": [],
   "source": [
    "# Spliting the dataset into training and test set\n",
    "from sklearn.model_selection import train_test_split\n",
    "train_reviews, test_reviews, train_sentiments, test_sentiments = train_test_split(imdb_data['review'], imdb_data['sentiment'], test_size=0.2, random_state=42)\n",
    "print(train_reviews.shape,train_sentiments.shape)\n",
    "print(test_reviews.shape,test_sentiments.shape)"
   ]
  },
  {
   "cell_type": "code",
   "execution_count": 37,
   "id": "235cee28-5d48-45b8-9362-b41f30ce4496",
   "metadata": {},
   "outputs": [
    {
     "name": "stdout",
     "output_type": "stream",
     "text": [
      "BOW_cv_train: (32000, 84801)\n",
      "BOW_cv_test: (8000, 84801)\n"
     ]
    }
   ],
   "source": [
    "# Count vectorizer for bag of words\n",
    "from sklearn.feature_extraction.text import CountVectorizer\n",
    "cv = CountVectorizer(stop_words = 'english')\n",
    "# Transformed train reviews\n",
    "cv_train_reviews = cv.fit_transform(train_reviews)\n",
    "# Transformed test reviews\n",
    "cv_test_reviews = cv.transform(test_reviews)\n",
    "\n",
    "print('BOW_cv_train:', cv_train_reviews.shape)\n",
    "print('BOW_cv_test:', cv_test_reviews.shape)"
   ]
  },
  {
   "cell_type": "code",
   "execution_count": 57,
   "id": "2f7a505e-693c-4cba-a76b-ef79cdc6fec7",
   "metadata": {},
   "outputs": [],
   "source": [
    "# Training a logistic regression\n",
    "from sklearn.linear_model import LogisticRegression\n",
    "lr = LogisticRegression(penalty='l2',max_iter=500,C=1,random_state=42)\n",
    "# Fitting the model for Bag of words\n",
    "lr_bow = lr.fit(cv_train_reviews,train_sentiments)"
   ]
  },
  {
   "cell_type": "code",
   "execution_count": 41,
   "id": "3993f891-3137-4344-81f6-3029b353d2f8",
   "metadata": {},
   "outputs": [
    {
     "name": "stdout",
     "output_type": "stream",
     "text": [
      "['negative' 'negative' 'negative' ... 'positive' 'positive' 'positive']\n",
      "lr_bow_score : 0.8775\n",
      "              precision    recall  f1-score   support\n",
      "\n",
      "    Positive       0.88      0.87      0.88      4039\n",
      "    Negative       0.87      0.88      0.88      3961\n",
      "\n",
      "    accuracy                           0.88      8000\n",
      "   macro avg       0.88      0.88      0.88      8000\n",
      "weighted avg       0.88      0.88      0.88      8000\n",
      "\n"
     ]
    }
   ],
   "source": [
    "# Predicting the model for bag of words\n",
    "lr_bow_predict = lr.predict(cv_test_reviews)\n",
    "print(lr_bow_predict)\n",
    "# Accuracy score for bag of words\n",
    "from sklearn.metrics import classification_report,confusion_matrix,accuracy_score\n",
    "lr_bow_score = accuracy_score(test_sentiments,lr_bow_predict)\n",
    "print(\"lr_bow_score :\",lr_bow_score)\n",
    "# Classification report for bag of words \n",
    "lr_bow_report = classification_report(test_sentiments, lr_bow_predict, target_names=['Positive','Negative'])\n",
    "print(lr_bow_report)"
   ]
  },
  {
   "cell_type": "code",
   "execution_count": 54,
   "id": "9c812da9-f9d6-4f6a-a876-c6ba4701db23",
   "metadata": {},
   "outputs": [
    {
     "name": "stdout",
     "output_type": "stream",
     "text": [
      "(8003, 1)\n"
     ]
    },
    {
     "data": {
      "text/html": [
       "<div>\n",
       "<style scoped>\n",
       "    .dataframe tbody tr th:only-of-type {\n",
       "        vertical-align: middle;\n",
       "    }\n",
       "\n",
       "    .dataframe tbody tr th {\n",
       "        vertical-align: top;\n",
       "    }\n",
       "\n",
       "    .dataframe thead th {\n",
       "        text-align: right;\n",
       "    }\n",
       "</style>\n",
       "<table border=\"1\" class=\"dataframe\">\n",
       "  <thead>\n",
       "    <tr style=\"text-align: right;\">\n",
       "      <th></th>\n",
       "      <th>review</th>\n",
       "      <th>sentiment</th>\n",
       "    </tr>\n",
       "  </thead>\n",
       "  <tbody>\n",
       "    <tr>\n",
       "      <th>0</th>\n",
       "      <td>With No Dead Heroes you get stupid lines like ...</td>\n",
       "      <td>negative</td>\n",
       "    </tr>\n",
       "    <tr>\n",
       "      <th>1</th>\n",
       "      <td>I thought maybe... maybe this could be good. A...</td>\n",
       "      <td>negative</td>\n",
       "    </tr>\n",
       "    <tr>\n",
       "      <th>2</th>\n",
       "      <td>An elite American military team which of cours...</td>\n",
       "      <td>negative</td>\n",
       "    </tr>\n",
       "    <tr>\n",
       "      <th>3</th>\n",
       "      <td>Ridiculous horror film about a wealthy man (Jo...</td>\n",
       "      <td>negative</td>\n",
       "    </tr>\n",
       "    <tr>\n",
       "      <th>4</th>\n",
       "      <td>Well, if you are one of those Katana's film-nu...</td>\n",
       "      <td>negative</td>\n",
       "    </tr>\n",
       "    <tr>\n",
       "      <th>...</th>\n",
       "      <td>...</td>\n",
       "      <td>...</td>\n",
       "    </tr>\n",
       "    <tr>\n",
       "      <th>7998</th>\n",
       "      <td>If you like the excitement of a good submarine...</td>\n",
       "      <td>positive</td>\n",
       "    </tr>\n",
       "    <tr>\n",
       "      <th>7999</th>\n",
       "      <td>I sat down to watch \"Midnight Cowboy\" thinking...</td>\n",
       "      <td>positive</td>\n",
       "    </tr>\n",
       "    <tr>\n",
       "      <th>8000</th>\n",
       "      <td>I voted this a 10 out of 10 simply because it ...</td>\n",
       "      <td>positive</td>\n",
       "    </tr>\n",
       "    <tr>\n",
       "      <th>8001</th>\n",
       "      <td>Okay, my title is kinda lame, and almost sells...</td>\n",
       "      <td>negative</td>\n",
       "    </tr>\n",
       "    <tr>\n",
       "      <th>8002</th>\n",
       "      <td>The year 2004 was the year of the biopic with ...</td>\n",
       "      <td>positive</td>\n",
       "    </tr>\n",
       "  </tbody>\n",
       "</table>\n",
       "<p>8003 rows × 2 columns</p>\n",
       "</div>"
      ],
      "text/plain": [
       "                                                 review sentiment\n",
       "0     With No Dead Heroes you get stupid lines like ...  negative\n",
       "1     I thought maybe... maybe this could be good. A...  negative\n",
       "2     An elite American military team which of cours...  negative\n",
       "3     Ridiculous horror film about a wealthy man (Jo...  negative\n",
       "4     Well, if you are one of those Katana's film-nu...  negative\n",
       "...                                                 ...       ...\n",
       "7998  If you like the excitement of a good submarine...  positive\n",
       "7999  I sat down to watch \"Midnight Cowboy\" thinking...  positive\n",
       "8000  I voted this a 10 out of 10 simply because it ...  positive\n",
       "8001  Okay, my title is kinda lame, and almost sells...  negative\n",
       "8002  The year 2004 was the year of the biopic with ...  positive\n",
       "\n",
       "[8003 rows x 2 columns]"
      ]
     },
     "execution_count": 54,
     "metadata": {},
     "output_type": "execute_result"
    }
   ],
   "source": [
    "# Predicting on evaluation set for Kaggle competition\n",
    "imdb_eval_data = pd.read_csv(\"data/imdb_eval.csv\")\n",
    "print(imdb_eval_data.shape)\n",
    "imdb_eval_data['sentiment'] = lr.predict(cv.transform(imdb_eval_data['review']))\n",
    "imdb_eval_data"
   ]
  },
  {
   "cell_type": "code",
   "execution_count": 56,
   "id": "e97f0402-13fe-4c7c-99d1-5c22735c2a10",
   "metadata": {},
   "outputs": [],
   "source": [
    "# Saving for Kaggle submission\n",
    "imdb_eval_data.to_csv('data/submission/cv_and_logistic.csv')"
   ]
  },
  {
   "cell_type": "markdown",
   "id": "57054cf2-84dd-40b2-bbd2-fa69f9c612d4",
   "metadata": {
    "tags": []
   },
   "source": [
    "## 5.2. Your turn!"
   ]
  },
  {
   "cell_type": "markdown",
   "id": "b71b19d9-221b-428e-8dbe-d79014dfe16a",
   "metadata": {},
   "source": [
    "Try to beat this first submission by playing on the vectorization method, the classification model, the preprocessing of the text, ... be creative!"
   ]
  }
 ],
 "metadata": {
  "kernelspec": {
   "display_name": "text-mining",
   "language": "python",
   "name": "text-mining"
  },
  "language_info": {
   "codemirror_mode": {
    "name": "ipython",
    "version": 3
   },
   "file_extension": ".py",
   "mimetype": "text/x-python",
   "name": "python",
   "nbconvert_exporter": "python",
   "pygments_lexer": "ipython3",
   "version": "3.9.5"
  }
 },
 "nbformat": 4,
 "nbformat_minor": 5
}
