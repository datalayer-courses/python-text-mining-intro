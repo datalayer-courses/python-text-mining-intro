{
 "cells": [
  {
   "cell_type": "markdown",
   "id": "73782d02-a180-413d-98b7-1ef513a487b0",
   "metadata": {},
   "source": [
    "The following is based on:\n",
    "- https://www.kaggle.com/code/lakshmi25npathi/sentiment-analysis-of-imdb-movie-reviews\n",
    "- https://openclassrooms.com/en/courses/6532301-introduction-to-natural-language-processing/7047916-apply-classifier-models-for-sentiment-analysis"
   ]
  },
  {
   "cell_type": "markdown",
   "id": "7f98f97d-8abf-4cda-a8ed-c70933af9888",
   "metadata": {},
   "source": [
    "# 5. Sentiment analysis modeling"
   ]
  },
  {
   "cell_type": "markdown",
   "id": "cd7ff550-b559-4492-9aa3-fc3834e750f2",
   "metadata": {},
   "source": [
    "Sentiment analysis is one of the most common text classification applications of vectorization.\n",
    "\n",
    "The goal of sentiment analysis is to classify an opinion as positive or negative. Sentiment analysis is mostly used to infer customers' views on a product or a service on social networks. You can also apply it to political discourse, digital sociology, or information extraction.\n",
    "\n",
    "Consider the following statement taken from a movie review: \n",
    "- \"This movie was amazing.\" Rather easy to identify the positive word, right? \n",
    "- Now, what about this one? \"That movie was amazingly bad.\" Slightly more complex! \n",
    "- Now what about this social media comment: \"It's not unattractive!\" Even more complex!\n",
    "\n",
    "Negations, idioms, slang and sarcasm complexify sentiment analysis."
   ]
  },
  {
   "cell_type": "markdown",
   "id": "84b82212-8dfa-4277-9b30-ce842bd10b1e",
   "metadata": {},
   "source": [
    "You will practice sentiment analysis with the IMDB dataset which is a dataset containing 50K movie reviews. \n",
    "You will train a classification model based on 40K movie reviews and you will be ranked based on the 10K movie reviews left by submitting your predictions on the Kaggle competition (https://www.kaggle.com/t/46868a736945459381c048c676afc0ce)."
   ]
  },
  {
   "cell_type": "markdown",
   "id": "7738db9b-7a3e-4da6-b3ab-5755894bf916",
   "metadata": {},
   "source": [
    "## 5.1. Sample submission"
   ]
  },
  {
   "cell_type": "code",
   "execution_count": 33,
   "id": "95aeeb8b-9d90-4609-be7a-f89c7706987a",
   "metadata": {},
   "outputs": [],
   "source": [
    "import pandas as pd"
   ]
  },
  {
   "cell_type": "code",
   "execution_count": 35,
   "id": "c49da3e8-b1d8-444e-8f51-c6c81bf57a24",
   "metadata": {},
   "outputs": [
    {
     "name": "stdout",
     "output_type": "stream",
     "text": [
      "(40000, 2)\n"
     ]
    },
    {
     "data": {
      "text/html": [
       "<div>\n",
       "<style scoped>\n",
       "    .dataframe tbody tr th:only-of-type {\n",
       "        vertical-align: middle;\n",
       "    }\n",
       "\n",
       "    .dataframe tbody tr th {\n",
       "        vertical-align: top;\n",
       "    }\n",
       "\n",
       "    .dataframe thead th {\n",
       "        text-align: right;\n",
       "    }\n",
       "</style>\n",
       "<table border=\"1\" class=\"dataframe\">\n",
       "  <thead>\n",
       "    <tr style=\"text-align: right;\">\n",
       "      <th></th>\n",
       "      <th>review</th>\n",
       "      <th>sentiment</th>\n",
       "    </tr>\n",
       "    <tr>\n",
       "      <th>id</th>\n",
       "      <th></th>\n",
       "      <th></th>\n",
       "    </tr>\n",
       "  </thead>\n",
       "  <tbody>\n",
       "    <tr>\n",
       "      <th>1</th>\n",
       "      <td>One of the other reviewers has mentioned that ...</td>\n",
       "      <td>positive</td>\n",
       "    </tr>\n",
       "    <tr>\n",
       "      <th>2</th>\n",
       "      <td>A wonderful little production. &lt;br /&gt;&lt;br /&gt;The...</td>\n",
       "      <td>positive</td>\n",
       "    </tr>\n",
       "    <tr>\n",
       "      <th>3</th>\n",
       "      <td>I thought this was a wonderful way to spend ti...</td>\n",
       "      <td>positive</td>\n",
       "    </tr>\n",
       "    <tr>\n",
       "      <th>4</th>\n",
       "      <td>Basically there's a family where a little boy ...</td>\n",
       "      <td>negative</td>\n",
       "    </tr>\n",
       "    <tr>\n",
       "      <th>5</th>\n",
       "      <td>Petter Mattei's \"Love in the Time of Money\" is...</td>\n",
       "      <td>positive</td>\n",
       "    </tr>\n",
       "    <tr>\n",
       "      <th>6</th>\n",
       "      <td>Probably my all-time favorite movie, a story o...</td>\n",
       "      <td>positive</td>\n",
       "    </tr>\n",
       "    <tr>\n",
       "      <th>7</th>\n",
       "      <td>I sure would like to see a resurrection of a u...</td>\n",
       "      <td>positive</td>\n",
       "    </tr>\n",
       "    <tr>\n",
       "      <th>8</th>\n",
       "      <td>This show was an amazing, fresh &amp; innovative i...</td>\n",
       "      <td>negative</td>\n",
       "    </tr>\n",
       "    <tr>\n",
       "      <th>9</th>\n",
       "      <td>Encouraged by the positive comments about this...</td>\n",
       "      <td>negative</td>\n",
       "    </tr>\n",
       "    <tr>\n",
       "      <th>10</th>\n",
       "      <td>If you like original gut wrenching laughter yo...</td>\n",
       "      <td>positive</td>\n",
       "    </tr>\n",
       "  </tbody>\n",
       "</table>\n",
       "</div>"
      ],
      "text/plain": [
       "                                               review sentiment\n",
       "id                                                             \n",
       "1   One of the other reviewers has mentioned that ...  positive\n",
       "2   A wonderful little production. <br /><br />The...  positive\n",
       "3   I thought this was a wonderful way to spend ti...  positive\n",
       "4   Basically there's a family where a little boy ...  negative\n",
       "5   Petter Mattei's \"Love in the Time of Money\" is...  positive\n",
       "6   Probably my all-time favorite movie, a story o...  positive\n",
       "7   I sure would like to see a resurrection of a u...  positive\n",
       "8   This show was an amazing, fresh & innovative i...  negative\n",
       "9   Encouraged by the positive comments about this...  negative\n",
       "10  If you like original gut wrenching laughter yo...  positive"
      ]
     },
     "execution_count": 35,
     "metadata": {},
     "output_type": "execute_result"
    }
   ],
   "source": [
    "# Importing the training data\n",
    "imdb_data = pd.read_csv('data/imdb.csv', index_col=0)\n",
    "print(imdb_data.shape)\n",
    "imdb_data.head(10)"
   ]
  },
  {
   "cell_type": "code",
   "execution_count": 36,
   "id": "384c40d0-8b05-4747-a622-317aac7b280f",
   "metadata": {},
   "outputs": [
    {
     "data": {
      "text/html": [
       "<div>\n",
       "<style scoped>\n",
       "    .dataframe tbody tr th:only-of-type {\n",
       "        vertical-align: middle;\n",
       "    }\n",
       "\n",
       "    .dataframe tbody tr th {\n",
       "        vertical-align: top;\n",
       "    }\n",
       "\n",
       "    .dataframe thead th {\n",
       "        text-align: right;\n",
       "    }\n",
       "</style>\n",
       "<table border=\"1\" class=\"dataframe\">\n",
       "  <thead>\n",
       "    <tr style=\"text-align: right;\">\n",
       "      <th></th>\n",
       "      <th>review</th>\n",
       "      <th>sentiment</th>\n",
       "    </tr>\n",
       "  </thead>\n",
       "  <tbody>\n",
       "    <tr>\n",
       "      <th>count</th>\n",
       "      <td>40000</td>\n",
       "      <td>40000</td>\n",
       "    </tr>\n",
       "    <tr>\n",
       "      <th>unique</th>\n",
       "      <td>39734</td>\n",
       "      <td>2</td>\n",
       "    </tr>\n",
       "    <tr>\n",
       "      <th>top</th>\n",
       "      <td>Loved today's show!!! It was a variety and not...</td>\n",
       "      <td>negative</td>\n",
       "    </tr>\n",
       "    <tr>\n",
       "      <th>freq</th>\n",
       "      <td>5</td>\n",
       "      <td>20007</td>\n",
       "    </tr>\n",
       "  </tbody>\n",
       "</table>\n",
       "</div>"
      ],
      "text/plain": [
       "                                                   review sentiment\n",
       "count                                               40000     40000\n",
       "unique                                              39734         2\n",
       "top     Loved today's show!!! It was a variety and not...  negative\n",
       "freq                                                    5     20007"
      ]
     },
     "execution_count": 36,
     "metadata": {},
     "output_type": "execute_result"
    }
   ],
   "source": [
    "# Summary of the dataset\n",
    "imdb_data.describe()"
   ]
  },
  {
   "cell_type": "code",
   "execution_count": 37,
   "id": "894c6920-38a9-4fca-9e42-ed7866469c05",
   "metadata": {},
   "outputs": [
    {
     "data": {
      "text/plain": [
       "negative    20007\n",
       "positive    19993\n",
       "Name: sentiment, dtype: int64"
      ]
     },
     "execution_count": 37,
     "metadata": {},
     "output_type": "execute_result"
    }
   ],
   "source": [
    "# Sentiment count\n",
    "imdb_data['sentiment'].value_counts()"
   ]
  },
  {
   "cell_type": "code",
   "execution_count": 38,
   "id": "4fdbd2dc-8dfb-4b92-8614-a70f3cbdf63d",
   "metadata": {},
   "outputs": [
    {
     "name": "stdout",
     "output_type": "stream",
     "text": [
      "(32000,) (32000,)\n",
      "(8000,) (8000,)\n"
     ]
    }
   ],
   "source": [
    "# Spliting the dataset into training and test set\n",
    "from sklearn.model_selection import train_test_split\n",
    "train_reviews, test_reviews, train_sentiments, test_sentiments = train_test_split(imdb_data['review'], imdb_data['sentiment'], test_size=0.2, random_state=42)\n",
    "print(train_reviews.shape,train_sentiments.shape)\n",
    "print(test_reviews.shape,test_sentiments.shape)"
   ]
  },
  {
   "cell_type": "code",
   "execution_count": 39,
   "id": "235cee28-5d48-45b8-9362-b41f30ce4496",
   "metadata": {},
   "outputs": [
    {
     "name": "stdout",
     "output_type": "stream",
     "text": [
      "BOW_cv_train: (32000, 84446)\n",
      "BOW_cv_test: (8000, 84446)\n"
     ]
    }
   ],
   "source": [
    "# Count vectorizer for bag of words\n",
    "from sklearn.feature_extraction.text import CountVectorizer\n",
    "cv = CountVectorizer(stop_words = 'english')\n",
    "# Transformed train reviews\n",
    "cv_train_reviews = cv.fit_transform(train_reviews)\n",
    "# Transformed test reviews\n",
    "cv_test_reviews = cv.transform(test_reviews)\n",
    "\n",
    "print('BOW_cv_train:', cv_train_reviews.shape)\n",
    "print('BOW_cv_test:', cv_test_reviews.shape)"
   ]
  },
  {
   "cell_type": "code",
   "execution_count": 40,
   "id": "2f7a505e-693c-4cba-a76b-ef79cdc6fec7",
   "metadata": {},
   "outputs": [],
   "source": [
    "# Training a logistic regression\n",
    "from sklearn.linear_model import LogisticRegression\n",
    "lr = LogisticRegression(penalty='l2',max_iter=500,C=1,random_state=42)\n",
    "# Fitting the model for Bag of words\n",
    "lr_bow = lr.fit(cv_train_reviews,train_sentiments)"
   ]
  },
  {
   "cell_type": "code",
   "execution_count": 41,
   "id": "3993f891-3137-4344-81f6-3029b353d2f8",
   "metadata": {},
   "outputs": [
    {
     "name": "stdout",
     "output_type": "stream",
     "text": [
      "['positive' 'positive' 'positive' ... 'positive' 'positive' 'negative']\n",
      "lr_bow_score : 0.88475\n",
      "              precision    recall  f1-score   support\n",
      "\n",
      "    Positive       0.89      0.88      0.88      4002\n",
      "    Negative       0.88      0.89      0.88      3998\n",
      "\n",
      "    accuracy                           0.88      8000\n",
      "   macro avg       0.88      0.88      0.88      8000\n",
      "weighted avg       0.88      0.88      0.88      8000\n",
      "\n"
     ]
    }
   ],
   "source": [
    "# Predicting the model for bag of words\n",
    "lr_bow_predict = lr.predict(cv_test_reviews)\n",
    "print(lr_bow_predict)\n",
    "# Accuracy score for bag of words\n",
    "from sklearn.metrics import classification_report,confusion_matrix,accuracy_score\n",
    "lr_bow_score = accuracy_score(test_sentiments,lr_bow_predict)\n",
    "print(\"lr_bow_score :\",lr_bow_score)\n",
    "# Classification report for bag of words \n",
    "lr_bow_report = classification_report(test_sentiments, lr_bow_predict, target_names=['Positive','Negative'])\n",
    "print(lr_bow_report)"
   ]
  },
  {
   "cell_type": "code",
   "execution_count": 46,
   "id": "9c812da9-f9d6-4f6a-a876-c6ba4701db23",
   "metadata": {},
   "outputs": [
    {
     "name": "stdout",
     "output_type": "stream",
     "text": [
      "(10000, 1)\n"
     ]
    },
    {
     "data": {
      "text/html": [
       "<div>\n",
       "<style scoped>\n",
       "    .dataframe tbody tr th:only-of-type {\n",
       "        vertical-align: middle;\n",
       "    }\n",
       "\n",
       "    .dataframe tbody tr th {\n",
       "        vertical-align: top;\n",
       "    }\n",
       "\n",
       "    .dataframe thead th {\n",
       "        text-align: right;\n",
       "    }\n",
       "</style>\n",
       "<table border=\"1\" class=\"dataframe\">\n",
       "  <thead>\n",
       "    <tr style=\"text-align: right;\">\n",
       "      <th></th>\n",
       "      <th>review</th>\n",
       "      <th>sentiment</th>\n",
       "    </tr>\n",
       "    <tr>\n",
       "      <th>id</th>\n",
       "      <th></th>\n",
       "      <th></th>\n",
       "    </tr>\n",
       "  </thead>\n",
       "  <tbody>\n",
       "    <tr>\n",
       "      <th>40001</th>\n",
       "      <td>First off I want to say that I lean liberal on...</td>\n",
       "      <td>negative</td>\n",
       "    </tr>\n",
       "    <tr>\n",
       "      <th>40002</th>\n",
       "      <td>I was excited to see a sitcom that would hopef...</td>\n",
       "      <td>negative</td>\n",
       "    </tr>\n",
       "    <tr>\n",
       "      <th>40003</th>\n",
       "      <td>When you look at the cover and read stuff abou...</td>\n",
       "      <td>positive</td>\n",
       "    </tr>\n",
       "    <tr>\n",
       "      <th>40004</th>\n",
       "      <td>Like many others, I counted on the appearance ...</td>\n",
       "      <td>negative</td>\n",
       "    </tr>\n",
       "    <tr>\n",
       "      <th>40005</th>\n",
       "      <td>This movie was on t.v the other day, and I did...</td>\n",
       "      <td>negative</td>\n",
       "    </tr>\n",
       "    <tr>\n",
       "      <th>...</th>\n",
       "      <td>...</td>\n",
       "      <td>...</td>\n",
       "    </tr>\n",
       "    <tr>\n",
       "      <th>49996</th>\n",
       "      <td>I thought this movie did a down right good job...</td>\n",
       "      <td>positive</td>\n",
       "    </tr>\n",
       "    <tr>\n",
       "      <th>49997</th>\n",
       "      <td>Bad plot, bad dialogue, bad acting, idiotic di...</td>\n",
       "      <td>negative</td>\n",
       "    </tr>\n",
       "    <tr>\n",
       "      <th>49998</th>\n",
       "      <td>I am a Catholic taught in parochial elementary...</td>\n",
       "      <td>positive</td>\n",
       "    </tr>\n",
       "    <tr>\n",
       "      <th>49999</th>\n",
       "      <td>I'm going to have to disagree with the previou...</td>\n",
       "      <td>positive</td>\n",
       "    </tr>\n",
       "    <tr>\n",
       "      <th>50000</th>\n",
       "      <td>No one expects the Star Trek movies to be high...</td>\n",
       "      <td>negative</td>\n",
       "    </tr>\n",
       "  </tbody>\n",
       "</table>\n",
       "<p>10000 rows × 2 columns</p>\n",
       "</div>"
      ],
      "text/plain": [
       "                                                  review sentiment\n",
       "id                                                                \n",
       "40001  First off I want to say that I lean liberal on...  negative\n",
       "40002  I was excited to see a sitcom that would hopef...  negative\n",
       "40003  When you look at the cover and read stuff abou...  positive\n",
       "40004  Like many others, I counted on the appearance ...  negative\n",
       "40005  This movie was on t.v the other day, and I did...  negative\n",
       "...                                                  ...       ...\n",
       "49996  I thought this movie did a down right good job...  positive\n",
       "49997  Bad plot, bad dialogue, bad acting, idiotic di...  negative\n",
       "49998  I am a Catholic taught in parochial elementary...  positive\n",
       "49999  I'm going to have to disagree with the previou...  positive\n",
       "50000  No one expects the Star Trek movies to be high...  negative\n",
       "\n",
       "[10000 rows x 2 columns]"
      ]
     },
     "execution_count": 46,
     "metadata": {},
     "output_type": "execute_result"
    }
   ],
   "source": [
    "# Predicting on evaluation set for Kaggle competition\n",
    "imdb_eval_data = pd.read_csv(\"data/imdb_eval.csv\", index_col=0)\n",
    "print(imdb_eval_data.shape)\n",
    "imdb_eval_data['sentiment'] = lr.predict(cv.transform(imdb_eval_data['review']))\n",
    "imdb_eval_data"
   ]
  },
  {
   "cell_type": "code",
   "execution_count": 47,
   "id": "e97f0402-13fe-4c7c-99d1-5c22735c2a10",
   "metadata": {},
   "outputs": [],
   "source": [
    "# Saving for Kaggle submission\n",
    "imdb_eval_data[['sentiment']].to_csv('data/submission/submission1_cv_logreg.csv')"
   ]
  },
  {
   "cell_type": "markdown",
   "id": "57054cf2-84dd-40b2-bbd2-fa69f9c612d4",
   "metadata": {
    "tags": []
   },
   "source": [
    "## 5.2. Your turn!"
   ]
  },
  {
   "cell_type": "markdown",
   "id": "b71b19d9-221b-428e-8dbe-d79014dfe16a",
   "metadata": {},
   "source": [
    "Try to beat this first submission by playing on the vectorization method, the classification model, the preprocessing of the text, ... be creative!"
   ]
  }
 ],
 "metadata": {
  "kernelspec": {
   "display_name": "text-mining",
   "language": "python",
   "name": "text-mining"
  },
  "language_info": {
   "codemirror_mode": {
    "name": "ipython",
    "version": 3
   },
   "file_extension": ".py",
   "mimetype": "text/x-python",
   "name": "python",
   "nbconvert_exporter": "python",
   "pygments_lexer": "ipython3",
   "version": "3.9.5"
  }
 },
 "nbformat": 4,
 "nbformat_minor": 5
}
