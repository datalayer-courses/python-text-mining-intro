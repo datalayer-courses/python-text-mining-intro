{
 "cells": [
  {
   "cell_type": "markdown",
   "id": "7f98f97d-8abf-4cda-a8ed-c70933af9888",
   "metadata": {},
   "source": [
    "# 5. Sentiment analysis modeling"
   ]
  },
  {
   "cell_type": "markdown",
   "id": "cd7ff550-b559-4492-9aa3-fc3834e750f2",
   "metadata": {},
   "source": [
    "Sentiment analysis is one of the most common text classification applications of vectorization.\n",
    "\n",
    "The goal of sentiment analysis is to classify an opinion as positive or negative. Sentiment analysis is mostly used to infer customers' views on a product or a service on social networks. You can also apply it to political discourse, digital sociology, or information extraction.\n",
    "\n",
    "Consider the following statement taken from a movie review: \"This movie was amazing.\" Rather easy to identify the positive word, right? Now, what about this one? \"That movie was amazingly bad.\" Slightly more complex! Now what about this social media comment: \"It's not unattractive!\" Even more complex!\n",
    "\n",
    "Negations, idioms, slang and sarcasm complexify sentiment analysis."
   ]
  },
  {
   "cell_type": "markdown",
   "id": "d266899b-093b-4f60-b957-4ffd99f4a18b",
   "metadata": {},
   "source": [
    "https://openclassrooms.com/en/courses/6532301-introduction-to-natural-language-processing/7047916-apply-classifier-models-for-sentiment-analysis\n",
    "\n",
    "https://www.kaggle.com/code/lakshmi25npathi/sentiment-analysis-of-imdb-movie-reviews"
   ]
  },
  {
   "cell_type": "code",
   "execution_count": null,
   "id": "5616aff7-dfc7-4022-9872-a6ed7f155f39",
   "metadata": {},
   "outputs": [],
   "source": []
  }
 ],
 "metadata": {
  "kernelspec": {
   "display_name": "text-mining",
   "language": "python",
   "name": "text-mining"
  },
  "language_info": {
   "codemirror_mode": {
    "name": "ipython",
    "version": 3
   },
   "file_extension": ".py",
   "mimetype": "text/x-python",
   "name": "python",
   "nbconvert_exporter": "python",
   "pygments_lexer": "ipython3",
   "version": "3.9.5"
  }
 },
 "nbformat": 4,
 "nbformat_minor": 5
}
